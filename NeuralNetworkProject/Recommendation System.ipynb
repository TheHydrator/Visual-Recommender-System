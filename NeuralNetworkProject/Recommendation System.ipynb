{
  "cells": [
    {
      "cell_type": "markdown",
      "metadata": {
        "id": "fa878c27"
      },
      "source": [
        "\n",
        "# Multimodal Recommendation System\n",
        "\n",
        "This notebook presents a hybrid recommendation engine that leverages both visual (image) and textual (title) features to recommend products.\n",
        "\n",
        "---\n",
        "\n",
        "## 1. Introduction to Libraries\n",
        "\n",
        "We use a range of libraries across data loading, neural network modeling, evaluation, and visualization:\n",
        "\n",
        "- **Data Handling**:\n",
        "  - `pandas`: For handling CSVs and tabular data.\n",
        "  - `pickle`: To load saved Python objects like precomputed embeddings.\n",
        "  - `os`, `re`: For file paths and regex operations.\n",
        "\n",
        "- **Image Processing**:\n",
        "  - `PIL`: To open and manipulate images.\n",
        "  - `torchvision.transforms`: For image preprocessing like resizing and tensor conversion.\n",
        "\n",
        "- **Text Processing**:\n",
        "  - `nltk`: For BLEU score evaluation of generated text.\n",
        "\n",
        "- **Deep Learning** _(PyTorch Only)_:\n",
        "  - `torch`, `torch.nn`: Core neural network modules.\n",
        "  - `torch.utils.data`: Dataset & Dataloader abstractions.\n",
        "  - `torch.nn.functional`: Functional interface like cosine similarity.\n",
        "\n",
        "- **Evaluation & Visualization**:\n",
        "  - `sklearn.metrics`: For accuracy score.\n",
        "  - `matplotlib.pyplot`: To visualize images and training results.\n",
        "  - `tqdm`: For progress bars.\n",
        "\n",
        "> ℹ **Setup Note**: Run the following to install missing libraries (e.g., nltk):\n",
        "```bash\n",
        "pip install nltk\n",
        "```\n"
      ]
    },
    {
      "cell_type": "code",
      "execution_count": null,
      "metadata": {
        "id": "m3nW2gsxYrSY"
      },
      "outputs": [],
      "source": [
        "import os\n",
        "import re\n",
        "import math\n",
        "import pickle\n",
        "import pandas as pd\n",
        "from PIL import Image\n",
        "from tqdm import tqdm\n",
        "import matplotlib.pyplot as plt\n",
        "from nltk.translate.bleu_score import sentence_bleu, SmoothingFunction\n",
        "\n",
        "from sklearn.metrics import accuracy_score\n",
        "from sklearn.model_selection import train_test_split\n",
        "\n",
        "import torch\n",
        "import torch.nn as nn\n",
        "import torch.optim as optim\n",
        "import torch.nn.functional as F\n",
        "from torchvision import transforms\n",
        "from torch.utils.data import Dataset, DataLoader\n",
        "from torch.nn.functional import cosine_similarity"
      ]
    },
    {
      "cell_type": "markdown",
      "metadata": {
        "id": "aaf3a308"
      },
      "source": [
        "\n",
        "---\n",
        "\n",
        "## 2. Model Design and Implementation\n",
        "\n",
        "This section defines the multimodal recommendation model that fuses both image and text embeddings.\n",
        "\n",
        "### Architecture Overview\n",
        "\n",
        "- **Input**:\n",
        "  - Image embeddings (from a CNN encoder)\n",
        "  - Text embeddings (from a bag-of-words or transformer-based encoder)\n",
        "\n",
        "- **Fusion Strategy**:\n",
        "  - We concatenate both feature vectors to form a joint representation.\n",
        "\n",
        "- **Output**:\n",
        "  - A similarity score for top-N product recommendations.\n",
        "\n",
        "Below, we walk through the model classes and helper functions, step by step.\n"
      ]
    },
    {
      "cell_type": "code",
      "source": [
        "from google.colab import drive\n",
        "drive.mount('/content/drive')"
      ],
      "metadata": {
        "id": "npd0KyndJPOA"
      },
      "execution_count": null,
      "outputs": []
    },
    {
      "cell_type": "markdown",
      "source": [
        "### Load and Explore Dataset\n",
        "\n",
        "We now load the dataset containing product information. Each entry contains:\n",
        "- `asin`: Unique product identifier\n",
        "- `title`: Textual title of the product\n",
        "- `image_name`: name for the product image\n",
        "\n",
        "This data will be used to power the recommendation logic."
      ],
      "metadata": {
        "id": "M-xIKkraJrGr"
      }
    },
    {
      "cell_type": "code",
      "source": [
        "df = pd.read_csv('/content/drive/MyDrive/CSC 528 Prime_Pantry_VRS/final_dataset.csv')\n",
        "df"
      ],
      "metadata": {
        "id": "kfNaGD9tJneL"
      },
      "execution_count": null,
      "outputs": []
    },
    {
      "cell_type": "markdown",
      "source": [
        "### Divide into test, train and validation dataset"
      ],
      "metadata": {
        "id": "_Y1ZLMcGJjjH"
      }
    },
    {
      "cell_type": "code",
      "source": [
        "# Split the data into training and testing sets\n",
        "train_df, test_df = train_test_split(df, test_size=0.1, random_state=42)\n",
        "\n",
        "# Further split the training data into training and validation sets\n",
        "train_df, val_df = train_test_split(train_df, test_size=0.1, random_state=42)"
      ],
      "metadata": {
        "id": "mPWt-VcLJfi8"
      },
      "execution_count": null,
      "outputs": []
    },
    {
      "cell_type": "code",
      "source": [
        "print(f\"Number of filtered test images: {len(test_df)}\")\n",
        "print(f\"Number of filtered train images: {len(train_df)}\")\n",
        "print(f\"Number of filtered validation images: {len(val_df)}\")"
      ],
      "metadata": {
        "id": "8PF7O0F4J0Hc"
      },
      "execution_count": null,
      "outputs": []
    },
    {
      "cell_type": "markdown",
      "source": [
        "### Build Word Tokenizer"
      ],
      "metadata": {
        "id": "xEGEf2qlKCaI"
      }
    },
    {
      "cell_type": "code",
      "source": [
        "class SimpleTokenizer:\n",
        "    \"\"\"\n",
        "    A basic word-level tokenizer for converting text into token IDs.\n",
        "\n",
        "    This tokenizer supports:\n",
        "    - Vocabulary building from a list of text inputs\n",
        "    - Encoding text into fixed-length token sequences with padding\n",
        "    - Decoding token IDs back to text\n",
        "\n",
        "    Special tokens:\n",
        "    - <PAD>: Used for padding (ID 0)\n",
        "    - <UNK>: Unknown token (ID 1)\n",
        "    \"\"\"\n",
        "\n",
        "    def __init__(self):\n",
        "        # Initialize vocab with special tokens\n",
        "        self.word2idx = {\"<PAD>\": 0, \"<UNK>\": 1}\n",
        "        self.idx2word = {0: \"<PAD>\", 1: \"<UNK>\"}\n",
        "        self.vocab_size = 2\n",
        "        self.pad_token_id = 0\n",
        "\n",
        "    def build_vocab(self, text_list):\n",
        "        \"\"\"\n",
        "        Builds vocabulary from a list of input strings.\n",
        "\n",
        "        Parameters:\n",
        "            text_list (List[str]): List of sentences or phrases\n",
        "        \"\"\"\n",
        "        for text in text_list:\n",
        "            for word in text.lower().split():\n",
        "                if word not in self.word2idx:\n",
        "                    self.word2idx[word] = self.vocab_size\n",
        "                    self.idx2word[self.vocab_size] = word\n",
        "                    self.vocab_size += 1\n",
        "\n",
        "    def encode(self, text, max_len):\n",
        "        \"\"\"\n",
        "        Encodes a text string into a list of token IDs with padding.\n",
        "\n",
        "        Parameters:\n",
        "            text (str): Input sentence\n",
        "            max_len (int): Desired fixed sequence length\n",
        "\n",
        "        Returns:\n",
        "            List[int]: Token ID sequence of length `max_len`\n",
        "        \"\"\"\n",
        "        tokens = [self.word2idx.get(w, 1) for w in text.lower().split()]  # 1 = <UNK>\n",
        "        tokens = tokens[:max_len] + [0] * (max_len - len(tokens))  # Pad with 0s\n",
        "        return tokens\n",
        "\n",
        "    def decode(self, token_ids):\n",
        "        \"\"\"\n",
        "        Converts a list of token IDs back into a string.\n",
        "\n",
        "        Parameters:\n",
        "            token_ids (List[int]): Sequence of token IDs\n",
        "\n",
        "        Returns:\n",
        "            str: Decoded string with unknowns shown as \"<UNK>\"\n",
        "        \"\"\"\n",
        "        return \" \".join([self.idx2word.get(idx, \"<UNK>\") for idx in token_ids])"
      ],
      "metadata": {
        "id": "HsVq5peJKDfq"
      },
      "execution_count": null,
      "outputs": []
    },
    {
      "cell_type": "code",
      "source": [
        "# Instantiate the tokenizer\n",
        "tokenizer = SimpleTokenizer()\n",
        "\n",
        "# Build vocabulary from product titles\n",
        "# - Converts each title to lowercase\n",
        "# - Adds new words to the vocabulary with unique IDs\n",
        "tokenizer.build_vocab(df['title'].tolist())"
      ],
      "metadata": {
        "id": "sty7cBdJKM1L"
      },
      "execution_count": null,
      "outputs": []
    },
    {
      "cell_type": "markdown",
      "source": [
        "### Dataset & DataLoader for Prime Pantry Products"
      ],
      "metadata": {
        "id": "7SnM-WcBKPBc"
      }
    },
    {
      "cell_type": "code",
      "source": [
        "class PantryDataset(Dataset):\n",
        "    \"\"\"\n",
        "    Custom Dataset for loading Prime Pantry product images and titles.\n",
        "\n",
        "    Each item consists of:\n",
        "    - A transformed image tensor\n",
        "    - A tokenized and padded title sequence\n",
        "\n",
        "    Parameters:\n",
        "        dataframe (pd.DataFrame): Dataset with 'image_name' and 'title' columns\n",
        "        tokenizer (SimpleTokenizer): Tokenizer for encoding titles\n",
        "        image_transform (callable): Image transformation pipeline\n",
        "        max_len (int): Maximum token sequence length\n",
        "    \"\"\"\n",
        "    def __init__(self, dataframe, tokenizer, image_transform, max_len):\n",
        "        self.dataframe = dataframe.reset_index(drop=True)\n",
        "        self.tokenizer = tokenizer\n",
        "        self.image_transform = image_transform\n",
        "        self.max_len = max_len\n",
        "\n",
        "    def __len__(self):\n",
        "        return len(self.dataframe)\n",
        "\n",
        "    def __getitem__(self, idx):\n",
        "        row = self.dataframe.iloc[idx]\n",
        "\n",
        "        # Get image path and title\n",
        "        image_path = os.path.join(\n",
        "            \"/content/drive/MyDrive/CSC 528 Prime_Pantry_VRS/Sorted/All\",\n",
        "            row['image_name']\n",
        "        )\n",
        "        caption = row['title']\n",
        "\n",
        "        # Load and preprocess image\n",
        "        image = Image.open(image_path).convert('RGB')\n",
        "        image = self.image_transform(image)\n",
        "\n",
        "        # Encode caption text to token sequence\n",
        "        tokens = self.tokenizer.encode(caption, max_len=self.max_len)\n",
        "        return image, torch.tensor(tokens)"
      ],
      "metadata": {
        "id": "6MdeFFnVKRdv"
      },
      "execution_count": null,
      "outputs": []
    },
    {
      "cell_type": "code",
      "source": [
        "# --------------------------------------------------\n",
        "# Custom Collate Function for Padding Captions\n",
        "# --------------------------------------------------\n",
        "def custom_collate(batch, pad_token_id):\n",
        "    \"\"\"\n",
        "    Pads sequences to the same length within a batch.\n",
        "\n",
        "    Parameters:\n",
        "        batch: List of (image, caption_tensor) pairs\n",
        "        pad_token_id: ID used for padding\n",
        "\n",
        "    Returns:\n",
        "        images (Tensor): Batch of image tensors\n",
        "        captions (Tensor): Batch of padded token sequences\n",
        "    \"\"\"\n",
        "    images, captions = zip(*batch)\n",
        "    images = torch.stack(images)\n",
        "    captions = torch.nn.utils.rnn.pad_sequence(\n",
        "        captions, batch_first=True, padding_value=pad_token_id\n",
        "    )\n",
        "    return images, captions"
      ],
      "metadata": {
        "id": "xcQ5Mn9eKYJ-"
      },
      "execution_count": null,
      "outputs": []
    },
    {
      "cell_type": "code",
      "source": [
        "# --------------------------------------------------\n",
        "# Image Transformation\n",
        "# --------------------------------------------------\n",
        "transform = transforms.Compose([\n",
        "    transforms.Resize((224, 224)),\n",
        "    transforms.ToTensor()\n",
        "])\n",
        "\n",
        "# Maximum token length per title\n",
        "MAX_LEN = 64"
      ],
      "metadata": {
        "id": "FDNYhyX3KaSP"
      },
      "execution_count": null,
      "outputs": []
    },
    {
      "cell_type": "code",
      "source": [
        "# --------------------------------------------------\n",
        "# Prepare Train/Validation/Test Datasets\n",
        "# --------------------------------------------------\n",
        "train_dataset = PantryDataset(train_df, tokenizer, transform, max_len=MAX_LEN)\n",
        "val_dataset   = PantryDataset(val_df, tokenizer, transform, max_len=MAX_LEN)\n",
        "test_dataset  = PantryDataset(test_df, tokenizer, transform, max_len=MAX_LEN)"
      ],
      "metadata": {
        "id": "5UGOO4i1Kciu"
      },
      "execution_count": null,
      "outputs": []
    },
    {
      "cell_type": "code",
      "source": [
        "# --------------------------------------------------\n",
        "# DataLoaders\n",
        "# --------------------------------------------------\n",
        "train_loader = DataLoader(train_dataset, batch_size=64, shuffle=True,\n",
        "                          collate_fn=lambda x: custom_collate(x, tokenizer.pad_token_id))\n",
        "val_loader   = DataLoader(val_dataset, batch_size=64, shuffle=False,\n",
        "                          collate_fn=lambda x: custom_collate(x, tokenizer.pad_token_id))\n",
        "test_loader  = DataLoader(test_dataset, batch_size=64, shuffle=False,\n",
        "                          collate_fn=lambda x: custom_collate(x, tokenizer.pad_token_id))"
      ],
      "metadata": {
        "id": "j8PI8blnKe6c"
      },
      "execution_count": null,
      "outputs": []
    },
    {
      "cell_type": "markdown",
      "source": [
        "### Multimodal Embedder with Attention Mechanism\n",
        "This module implements a simplified multi-head attention mechanism, which is key to capturing contextual information across multiple modes (text, image).\n",
        "\n",
        "The text and image inputs are processed separately using respective encoders. These encoded inputs are converted into unified embeddings."
      ],
      "metadata": {
        "id": "95sa4b1JKkOV"
      }
    },
    {
      "cell_type": "code",
      "source": [
        "# ---------- Basic Attention & Positional Encoding ----------\n",
        "def scaled_dot_context(q, k, v, mask=None):\n",
        "    \"\"\"\n",
        "      Computes scaled dot-product attention.\n",
        "\n",
        "      Parameters:\n",
        "          q (Tensor): Queries tensor of shape (B, H, T, Dk)\n",
        "          k (Tensor): Keys tensor of shape (B, H, T, Dk)\n",
        "          v (Tensor): Values tensor of shape (B, H, T, Dv)\n",
        "          mask (Tensor, optional): Mask tensor to prevent attention to certain positions\n",
        "\n",
        "      Returns:\n",
        "          Tensor: Attention-weighted output\n",
        "      \"\"\"\n",
        "    d_k = q.size(-1)  # scale factor based on key dimension\n",
        "    scores = torch.matmul(q, k.transpose(-2, -1)) / math.sqrt(d_k) # scaled dot-product\n",
        "    if mask is not None:\n",
        "        scores = scores.masked_fill(mask == 0, -1e9) # mask out invalid positions\n",
        "    attn = torch.softmax(scores, dim=-1)  # apply softmax to get attention weights\n",
        "    return torch.matmul(attn, v) # weighted sum of values\n",
        "\n",
        "class MultiContextualFocus(nn.Module):\n",
        "      \"\"\"\n",
        "      Implements multi-head attention as a contextual focus module.\n",
        "\n",
        "      Attributes:\n",
        "          dim_model (int): Total dimension of the model\n",
        "          num_heads (int): Number of parallel attention heads\n",
        "      \"\"\"\n",
        "    def __init__(self, dim_model, num_heads):\n",
        "        super().__init__()\n",
        "        assert dim_model % num_heads == 0 # Model dimension must be divisible by number of heads\n",
        "        self.num_heads = num_heads\n",
        "        self.head_dim = dim_model // num_heads\n",
        "\n",
        "        # Linear projections for queries, keys, and values\n",
        "        self.to_q = nn.Linear(dim_model, dim_model)\n",
        "        self.to_k = nn.Linear(dim_model, dim_model)\n",
        "        self.to_v = nn.Linear(dim_model, dim_model)\n",
        "        # Output projection layer\n",
        "        self.merge = nn.Linear(dim_model, dim_model)\n",
        "\n",
        "    def forward(self, q, k, v, mask=None):\n",
        "        \"\"\"\n",
        "        Forward pass of the multi-head attention mechanism.\n",
        "\n",
        "        Parameters:\n",
        "            q, k, v (Tensor): Input embeddings (B, T, D)\n",
        "            mask (Tensor, optional): Optional mask for attention weights\n",
        "\n",
        "        Returns:\n",
        "            Tensor: Contextualized representation after attention\n",
        "        \"\"\"\n",
        "        B = q.size(0)\n",
        "        # Linear projections + reshape for multi-head split\n",
        "        q = self.to_q(q).view(B, -1, self.num_heads, self.head_dim).transpose(1, 2)\n",
        "        k = self.to_k(k).view(B, -1, self.num_heads, self.head_dim).transpose(1, 2)\n",
        "        v = self.to_v(v).view(B, -1, self.num_heads, self.head_dim).transpose(1, 2)\n",
        "\n",
        "        # Calculate attention across all heads\n",
        "        context = scaled_dot_context(q, k, v, mask)\n",
        "        # Concatenate heads and apply final linear layer\n",
        "        context = context.transpose(1, 2).contiguous().view(B, -1, self.num_heads * self.head_dim)\n",
        "        return self.merge(context)"
      ],
      "metadata": {
        "id": "W5b2XqvEKgw7"
      },
      "execution_count": null,
      "outputs": []
    },
    {
      "cell_type": "markdown",
      "source": [
        "## ContextProjectionBlock: Feedforward Layer in Transformer\n",
        "\n",
        "The `ContextProjectionBlock` is a fundamental building block used in Transformer architectures to increase the model’s representation power. It applies a two-layer fully connected network with a ReLU activation between the layers.\n",
        "\n",
        "### Why It’s Used:\n",
        "This block allows the model to:\n",
        "- Expand and project information into a higher-dimensional space.\n",
        "- Introduce non-linearity, enabling complex pattern learning.\n",
        "- Return to the original dimensionality to preserve sequence compatibility.\n",
        "\n",
        "This is equivalent to the \"Position-wise Feedforward Network\" described in the original Transformer paper.\n",
        "\n",
        "### Structure:\n",
        "1. Linear Projection: `dim_model → dim_ff`\n",
        "2. ReLU Activation\n",
        "3. Linear Projection: `dim_ff → dim_model`\n",
        "\n",
        "This structure is used in each Transformer block, both in encoders and decoders, to complement the attention mechanism.\n"
      ],
      "metadata": {
        "id": "YC8uwaH5Kw54"
      }
    },
    {
      "cell_type": "code",
      "source": [
        "class ContextProjectionBlock(nn.Module):\n",
        "    \"\"\"\n",
        "    Implements a simple Feedforward Projection Block used in Transformer architectures.\n",
        "\n",
        "    This block applies two linear transformations with a ReLU activation in between:\n",
        "    - Projects input from model dimension to a higher feedforward (FF) dimension\n",
        "    - Applies non-linearity (ReLU)\n",
        "    - Projects back to the original model dimension\n",
        "\n",
        "    Parameters:\n",
        "        dim_model (int): Dimensionality of input and output features\n",
        "        dim_ff (int): Dimensionality of the intermediate feedforward layer\n",
        "    \"\"\"\n",
        "    def __init__(self, dim_model, dim_ff):\n",
        "        super().__init__()\n",
        "        # First linear layer projects to a higher-dimensional space\n",
        "        self.map1 = nn.Linear(dim_model, dim_ff)\n",
        "        # Activation introduces non-linearity\n",
        "        self.activate = nn.ReLU()\n",
        "        # Second linear layer projects back to the model dimension\n",
        "        self.map2 = nn.Linear(dim_ff, dim_model)\n",
        "\n",
        "    def forward(self, x):\n",
        "        \"\"\"\n",
        "        Forward pass through the feedforward block.\n",
        "\n",
        "        Parameters:\n",
        "            x (Tensor): Input tensor of shape (B, T, dim_model)\n",
        "\n",
        "        Returns:\n",
        "            Tensor: Output tensor of the same shape after projection and activation\n",
        "        \"\"\"\n",
        "        return self.map2(self.activate(self.map1(x)))"
      ],
      "metadata": {
        "id": "5am4i0-dK3ES"
      },
      "execution_count": null,
      "outputs": []
    },
    {
      "cell_type": "markdown",
      "source": [
        "## OrderAwarenessModule: Positional Encoding Layer\n",
        "\n",
        "The `OrderAwarenessModule` injects **sequence order information** into the model’s input embeddings. This is crucial because self-attention mechanisms are permutation-invariant—they do not inherently encode order unless explicitly introduced.\n",
        "\n",
        "### Why It’s Needed:\n",
        "Transformers operate without recurrence or convolution. To understand the position of tokens in a sequence, they require **positional encodings**.\n",
        "\n",
        "This module implements the **fixed sinusoidal positional encoding** introduced in *\"Attention is All You Need\"* (Vaswani et al., 2017). These encodings help the model:\n",
        "- Distinguish the position of tokens\n",
        "- Capture relative and absolute position information\n",
        "\n",
        "### Strategy:\n",
        "- Uses sine functions for even indices, cosine functions for odd indices\n",
        "- Frequency of the signals varies exponentially across dimensions\n",
        "- No trainable parameters; purely deterministic and generalizable to longer sequences\n",
        "\n",
        "### Output:\n",
        "Adds the precomputed positional encoding to the input embeddings:\n",
        "Output = Input + PositionalEncoding\n",
        "\n",
        "\n",
        "This ensures that the position of each token is embedded directly into the representation used by subsequent layers.\n",
        "\n"
      ],
      "metadata": {
        "id": "gT8zcndiK7fc"
      }
    },
    {
      "cell_type": "code",
      "source": [
        "class OrderAwarenessModule(nn.Module):\n",
        "    \"\"\"\n",
        "    Implements positional encoding to inject order information into input sequences.\n",
        "\n",
        "    This module follows the sinusoidal positional encoding strategy described in the\n",
        "    \"Attention is All You Need\" paper (Vaswani et al., 2017). It uses fixed encodings\n",
        "    based on sine and cosine functions of varying frequencies.\n",
        "\n",
        "    Parameters:\n",
        "        dim_model (int): Dimensionality of the model embeddings\n",
        "        max_len (int): Maximum sequence length for which to compute encodings\n",
        "    \"\"\"\n",
        "    def __init__(self, dim_model, max_len=5000):\n",
        "        super().__init__()\n",
        "        # Initialize positional encoding matrix\n",
        "        pe = torch.zeros(max_len, dim_model)\n",
        "        # Position indices (0, 1, 2, ..., max_len-1)\n",
        "        pos = torch.arange(0, max_len, dtype=torch.float).unsqueeze(1)\n",
        "         # Compute the frequency terms for the positional encoding\n",
        "        term = torch.exp(torch.arange(0, dim_model, 2).float() * (-math.log(10000.0) / dim_model))\n",
        "\n",
        "        # Apply sine to even indices in the array; cosine to odd indices\n",
        "        pe[:, 0::2] = torch.sin(pos * term)\n",
        "        pe[:, 1::2] = torch.cos(pos * term)\n",
        "        # Register buffer so it's saved with the model but not updated during training\n",
        "        self.register_buffer('pe', pe.unsqueeze(0)) # shape: (1, max_len, dim_model)\n",
        "\n",
        "    def forward(self, x):\n",
        "        \"\"\"\n",
        "        Adds positional encoding to the input tensor.\n",
        "\n",
        "        Parameters:\n",
        "            x (Tensor): Input tensor of shape (B, T, dim_model)\n",
        "\n",
        "        Returns:\n",
        "            Tensor: Output tensor with positional encoding added\n",
        "        \"\"\"\n",
        "        return x + self.pe[:, :x.size(1)]"
      ],
      "metadata": {
        "id": "Q-VmmFL9K299"
      },
      "execution_count": null,
      "outputs": []
    },
    {
      "cell_type": "markdown",
      "metadata": {
        "id": "GJeCEC7o4MWN"
      },
      "source": [
        "## ContextualBlock: Transformer Encoder/Decoder Unit\n",
        "\n",
        "The `ContextualBlock` implements a modular building block inspired by the Transformer architecture. It supports both standard self-attention (for encoders) and optional cross-attention (for decoders), making it suitable for multimodal or sequence-to-sequence tasks.\n",
        "\n",
        "### Purpose\n",
        "\n",
        "This block is designed to:\n",
        "- Model dependencies within a sequence using self-attention\n",
        "- Integrate external context (e.g., image or text features) using cross-attention when required\n",
        "- Refine representations using a feedforward projection layer\n",
        "- Normalize activations to stabilize training\n",
        "\n",
        "### Key Components\n",
        "\n",
        "- **Self-Attention (`self_attend`)**: Enables each token to attend to all others in the input sequence.\n",
        "- **Cross-Attention (`cross_attend`)**: Allows the current sequence to attend to an external context (used in decoder layers).\n",
        "- **Feedforward Block (`expand`)**: Two linear layers with ReLU activation to enrich representations.\n",
        "- **Layer Normalization (`norm1`, `norm2`, `norm3`)**: Follows pre-normalization scheme for stable gradient flow.\n",
        "- **Residual Connections**: Preserve input information and help with gradient propagation.\n",
        "\n",
        "### Control via `cross` Flag\n",
        "\n",
        "The `cross` parameter allows this block to be reused for both encoder and decoder roles:\n",
        "- When `cross=False`: Behaves like a standard encoder block\n",
        "- When `cross=True`: Enables cross-attention for decoder functionality\n",
        "\n",
        "### Output\n",
        "\n",
        "The block returns a transformed tensor of the same shape as the input:\n",
        "\n",
        "Input: (B, T, dim_model)\n",
        "\n",
        "Output: (B, T, dim_model)\n",
        "\n",
        "\n",
        "This module forms the core of both the visual and text interpreters in the overall model architecture."
      ]
    },
    {
      "cell_type": "code",
      "execution_count": null,
      "metadata": {
        "id": "Wl4tuDI8lW9V"
      },
      "outputs": [],
      "source": [
        "class ContextualBlock(nn.Module):\n",
        "    \"\"\"\n",
        "    Implements a transformer-style contextual block with optional cross-attention.\n",
        "\n",
        "    This module follows the architecture of a Transformer encoder block, including:\n",
        "    - Multi-head self-attention\n",
        "    - Optional cross-attention for encoder-decoder interaction\n",
        "    - Position-wise feedforward projection\n",
        "    - Layer normalization at each stage (pre-norm)\n",
        "\n",
        "    Parameters:\n",
        "        dim_model (int): Dimensionality of input and output features\n",
        "        num_heads (int): Number of attention heads\n",
        "        dim_ff (int): Hidden dimension of the feedforward block\n",
        "        cross (bool): Whether to enable cross-attention (e.g., for decoder blocks)\n",
        "    \"\"\"\n",
        "    def __init__(self, dim_model, num_heads, dim_ff, cross=False):\n",
        "        super().__init__()\n",
        "        # Multi-head self-attention mechanism\n",
        "        self.self_attend = MultiContextualFocus(dim_model, num_heads)\n",
        "        # Optional cross-attention (e.g., used in decoder blocks)\n",
        "        self.cross_attend = MultiContextualFocus(dim_model, num_heads) if cross else None\n",
        "\n",
        "        # Feedforward projection block\n",
        "        self.expand = ContextProjectionBlock(dim_model, dim_ff)\n",
        "\n",
        "        # Layer normalization layers (pre-norm configuration)\n",
        "        self.norm1 = nn.LayerNorm(dim_model)\n",
        "        self.norm2 = nn.LayerNorm(dim_model)\n",
        "        self.norm3 = nn.LayerNorm(dim_model) if cross else None\n",
        "\n",
        "        # Flag to control use of cross-attention\n",
        "        self.cross = cross\n",
        "\n",
        "    def forward(self, x, context=None, self_mask=None, cross_mask=None):\n",
        "        \"\"\"\n",
        "        Forward pass through the contextual block.\n",
        "\n",
        "        Parameters:\n",
        "            x (Tensor): Input tensor of shape (B, T, dim_model)\n",
        "            context (Tensor, optional): External context for cross-attention\n",
        "            self_mask (Tensor, optional): Attention mask for self-attention\n",
        "            cross_mask (Tensor, optional): Attention mask for cross-attention\n",
        "\n",
        "        Returns:\n",
        "            Tensor: Output tensor of shape (B, T, dim_model)\n",
        "        \"\"\"\n",
        "\n",
        "        # Apply self-attention with residual connection and normalization\n",
        "        x = self.norm1(x + self.self_attend(x, x, x, self_mask))\n",
        "\n",
        "        # If cross-attention is enabled and context is provided\n",
        "        if self.cross and self.cross_attend and context is not None:\n",
        "          # Apply cross-attention\n",
        "            x = self.norm2(x + self.cross_attend(x, context, context, cross_mask))\n",
        "            # Followed by feedforward projection\n",
        "            x = self.norm3(x + self.expand(x))\n",
        "        else:\n",
        "            # Otherwise, apply only feedforward projection\n",
        "            x = self.norm2(x + self.expand(x))\n",
        "        return x"
      ]
    },
    {
      "cell_type": "markdown",
      "source": [
        "### VisionFeatureExtractor: CNN-Based Image Encoder for Patch Embeddings\n",
        "\n",
        "The `VisionFeatureExtractor` module encodes input images into a sequence of patch-level embeddings using a lightweight convolutional neural network (CNN). Instead of manually splitting images into patches, it employs strided convolutions to downsample and extract localized features across the spatial dimensions. The final feature map is reshaped into a sequence suitable for Transformer-based architectures. This design provides a compact, efficient, and expressive visual representation ideal for vision-language tasks like captioning or multimodal retrieval.\n",
        "\n"
      ],
      "metadata": {
        "id": "67Hr46ud8lZm"
      }
    },
    {
      "cell_type": "code",
      "execution_count": null,
      "metadata": {
        "id": "FAyByJruljVI"
      },
      "outputs": [],
      "source": [
        "# ---------- Vision and Text Encoders ----------\n",
        "class VisionFeatureExtractor(nn.Module):\n",
        "    \"\"\"\n",
        "    A simple CNN-based feature extractor for images.\n",
        "\n",
        "    This module encodes an input image into a sequence of feature vectors (patch embeddings),\n",
        "    similar to how Vision Transformers (ViTs) process patches.\n",
        "\n",
        "    Parameters:\n",
        "        in_channels (int): Number of input channels (e.g., 3 for RGB)\n",
        "        patch_dim (int): Dimensionality of the output patch embeddings\n",
        "    \"\"\"\n",
        "    def __init__(self, in_channels=3, patch_dim=64):\n",
        "        super().__init__()\n",
        "\n",
        "        # Convolutional stack to reduce spatial dimensions and extract features\n",
        "        self.encoder = nn.Sequential(\n",
        "            nn.Conv2d(in_channels, 32, kernel_size=3, stride=2, padding=1),  # Downsample by 2\n",
        "            nn.ReLU(),\n",
        "            nn.Conv2d(32, 64, kernel_size=3, stride=2, padding=1),  # Downsample by 2\n",
        "            nn.ReLU(),\n",
        "            nn.Conv2d(64, patch_dim, kernel_size=3, stride=2, padding=1),  # Downsample by 2\n",
        "            nn.ReLU(),\n",
        "        )\n",
        "\n",
        "    def forward(self, x):\n",
        "        \"\"\"\n",
        "        Forward pass to extract visual patch embeddings.\n",
        "\n",
        "        Parameters:\n",
        "            x (Tensor): Input image tensor of shape (B, C, H, W)\n",
        "\n",
        "        Returns:\n",
        "            Tensor: Patch sequence tensor of shape (B, N_patches, patch_dim)\n",
        "        \"\"\"\n",
        "\n",
        "        B, C, H, W = x.shape\n",
        "        # Apply CNN to extract features\n",
        "        x = self.encoder(x)  # (B, D, H', W')\n",
        "\n",
        "        # Flatten spatial dimensions into a sequence of patches\n",
        "        x = x.flatten(2).transpose(1, 2)  # (B, N_patches, D)\n",
        "        return x"
      ]
    },
    {
      "cell_type": "markdown",
      "source": [
        "### VisualInterpreter: Transformer-Based Contextual Encoder for Image Patches\n",
        "\n",
        "The `VisualInterpreter` module enhances a sequence of image patch embeddings using Transformer-style self-attention layers. It begins by projecting the CNN-extracted patch features into a common embedding space, then augments them with positional encodings to preserve spatial information. A stack of `ContextualBlock` layers is then applied, enabling each patch to attend to all others in the sequence. This deep contextualization allows the model to capture complex spatial relationships across the image. The output is a refined and globally-aware set of visual features well-suited for tasks like vision-language modeling and image caption generation.\n"
      ],
      "metadata": {
        "id": "qn1jF_XX9mQl"
      }
    },
    {
      "cell_type": "code",
      "execution_count": null,
      "metadata": {
        "id": "k-KTu7kjloft"
      },
      "outputs": [],
      "source": [
        "class VisualInterpreter(nn.Module):\n",
        "    \"\"\"\n",
        "      Encodes a sequence of visual patch embeddings using Transformer-style contextual layers.\n",
        "\n",
        "      This module takes patch-level features (e.g., from a CNN) and applies:\n",
        "      1. Linear projection to match model dimensionality\n",
        "      2. Positional encoding to inject order information\n",
        "      3. A stack of self-attention-based ContextualBlocks for deep reasoning\n",
        "\n",
        "      Parameters:\n",
        "          input_dim (int): Dimensionality of input patch features\n",
        "          dim_model (int): Dimension used throughout the model\n",
        "          num_heads (int): Number of attention heads in each block\n",
        "          dim_ff (int): Hidden size in feedforward layers\n",
        "          depth (int): Number of stacked ContextualBlocks\n",
        "      \"\"\"\n",
        "    def __init__(self, input_dim, dim_model, num_heads, dim_ff, depth):\n",
        "        super().__init__()\n",
        "\n",
        "        # Project input patch features to model dimension\n",
        "        self.project = nn.Linear(input_dim, dim_model)\n",
        "\n",
        "        # Positional encoding to retain spatial order information\n",
        "        self.position = OrderAwarenessModule(dim_model)\n",
        "\n",
        "        # Stack of contextual blocks (Transformer-like)\n",
        "        self.blocks = nn.ModuleList([\n",
        "            ContextualBlock(dim_model, num_heads, dim_ff)\n",
        "            for _ in range(depth)])\n",
        "\n",
        "    def forward(self, x, mask=None):\n",
        "        \"\"\"\n",
        "        Forward pass to encode visual tokens.\n",
        "\n",
        "        Parameters:\n",
        "            x (Tensor): Input tensor of shape (B, N_patches, input_dim)\n",
        "            mask (Tensor, optional): Self-attention mask (B, N, N)\n",
        "\n",
        "        Returns:\n",
        "            Tensor: Contextually enhanced visual features (B, N_patches, dim_model)\n",
        "        \"\"\"\n",
        "        x = self.project(x)     # Project to model dimension\n",
        "        x = self.position(x)    # Add positional encoding\n",
        "        for blk in self.blocks: # Apply stacked self-attention blocks\n",
        "            x = blk(x, mask)\n",
        "        return x"
      ]
    },
    {
      "cell_type": "markdown",
      "source": [
        "### TextInterpreter: Transformer-Based Encoder for Token Sequences\n",
        "\n",
        "The `TextInterpreter` module transforms raw token indices into context-aware embeddings using a Transformer-based architecture. It starts by mapping each token to a dense vector using an embedding layer, followed by positional encodings that capture the sequential order. A stack of `ContextualBlock` layers then allows each token to attend to others in the sequence, effectively modeling long-range dependencies and semantic relationships. This design is ideal for encoding product titles or descriptions, preparing them for downstream tasks such as generation, retrieval, or classification.\n"
      ],
      "metadata": {
        "id": "892665l69rsR"
      }
    },
    {
      "cell_type": "code",
      "execution_count": null,
      "metadata": {
        "id": "J7btpoBLlu5A"
      },
      "outputs": [],
      "source": [
        "class TextInterpreter(nn.Module):\n",
        "    \"\"\"\n",
        "    Encodes a sequence of token indices into contextual embeddings using Transformer-style layers.\n",
        "\n",
        "    This module maps text tokens to embeddings, adds positional encoding, and applies a stack\n",
        "    of self-attention-based ContextualBlocks to capture long-range dependencies.\n",
        "\n",
        "    Parameters:\n",
        "        vocab_size (int): Number of unique tokens in the vocabulary\n",
        "        dim_model (int): Dimensionality of token embeddings and model layers\n",
        "        num_heads (int): Number of attention heads in each ContextualBlock\n",
        "        dim_ff (int): Hidden size of the feedforward projection\n",
        "        depth (int): Number of stacked ContextualBlocks\n",
        "        max_len (int): Maximum sequence length for positional encoding\n",
        "    \"\"\"\n",
        "    def __init__(self, vocab_size, dim_model, num_heads, dim_ff, depth, max_len):\n",
        "        super().__init__()\n",
        "\n",
        "        # Embedding layer to map token indices to dense vectors\n",
        "        self.token_map = nn.Embedding(vocab_size, dim_model)\n",
        "\n",
        "        # Positional encoding to inject order awareness\n",
        "        self.position = OrderAwarenessModule(dim_model, max_len)\n",
        "\n",
        "        # Stack of self-attention-based processing blocks\n",
        "        self.blocks = nn.ModuleList([\n",
        "            ContextualBlock(dim_model, num_heads, dim_ff)\n",
        "            for _ in range(depth)\n",
        "        ])\n",
        "\n",
        "    def forward(self, x, mask=None):\n",
        "        \"\"\"\n",
        "        Forward pass to encode token sequences.\n",
        "\n",
        "        Parameters:\n",
        "            x (Tensor): Input token indices of shape (B, T)\n",
        "            mask (Tensor, optional): Self-attention mask (B, T, T)\n",
        "\n",
        "        Returns:\n",
        "            Tensor: Contextually enriched token embeddings (B, T, dim_model)\n",
        "        \"\"\"\n",
        "        x = self.token_map(x)     # Convert token IDs to embeddings\n",
        "        x = self.position(x)      # Add positional information\n",
        "        for blk in self.blocks:   # Apply stacked self-attention layers\n",
        "            x = blk(x, mask)\n",
        "        return x"
      ]
    },
    {
      "cell_type": "markdown",
      "source": [
        "### MultimodalEmbedder: Fusing Visual and Textual Representations for Joint Embedding\n",
        "\n",
        "The `MultimodalEmbedder` module integrates image and text information into a unified embedding. It encodes visual inputs using a lightweight CNN followed by Transformer layers (`VisualInterpreter`) and processes textual inputs with a Transformer-based `TextInterpreter`. After extracting mean-pooled features from both modalities, it concatenates them and projects the combined vector into a shared latent space using a linear fusion layer. This architecture enables effective joint understanding of image-title pairs for tasks like retrieval, matching, or classification in multimodal settings.\n"
      ],
      "metadata": {
        "id": "zl7u-OpY9xf0"
      }
    },
    {
      "cell_type": "code",
      "execution_count": null,
      "metadata": {
        "id": "_sPlSAttlxWS"
      },
      "outputs": [],
      "source": [
        "class MultimodalEmbedder(nn.Module):\n",
        "    \"\"\"\n",
        "    Combines visual and textual modalities into a unified embedding.\n",
        "\n",
        "    This model processes images and text separately through their respective encoders, then\n",
        "    fuses their representations into a single embedding vector suitable for downstream tasks\n",
        "    such as multimodal classification or retrieval.\n",
        "\n",
        "    Parameters:\n",
        "        image_channels (int): Number of channels in the input image (e.g., 3 for RGB)\n",
        "        vocab_size (int): Size of the vocabulary used in the text encoder\n",
        "        dim_model (int): Embedding dimension for both modalities\n",
        "        num_heads (int): Number of attention heads in contextual blocks\n",
        "        ff_dim (int): Feedforward layer size in attention blocks\n",
        "        depth (int): Number of contextual layers in both encoders\n",
        "        max_len (int): Maximum sequence length for text positional encoding\n",
        "    \"\"\"\n",
        "    def __init__(self, image_channels, vocab_size, dim_model, num_heads, ff_dim, depth, max_len):\n",
        "        super().__init__()\n",
        "\n",
        "        # Image encoding pipeline: CNN + Transformer-style visual interpreter\n",
        "        self.image_encoder = nn.Sequential(\n",
        "            VisionFeatureExtractor(in_channels=image_channels, patch_dim=dim_model),\n",
        "            VisualInterpreter(input_dim=dim_model, dim_model=dim_model, num_heads=num_heads, dim_ff=ff_dim, depth=depth)\n",
        "        )\n",
        "\n",
        "        # Text encoding pipeline: Token embedding + Transformer blocks + temporal pooling\n",
        "        self.text_encoder = nn.Sequential(\n",
        "            TextInterpreter(vocab_size, dim_model, num_heads, ff_dim, depth, max_len),\n",
        "            nn.AdaptiveAvgPool1d(1)  # Pools across sequence length (temporal dimension)\n",
        "        )\n",
        "\n",
        "        # Fusion layer to merge image and text features\n",
        "        self.fusion = nn.Linear(2 * dim_model, dim_model)\n",
        "\n",
        "    def forward(self, image_tensor, text_tokens):\n",
        "        \"\"\"\n",
        "        Forward pass for fusing image and text representations.\n",
        "\n",
        "        Parameters:\n",
        "            image_tensor (Tensor): Batch of images of shape (B, C, H, W)\n",
        "            text_tokens (Tensor): Batch of token IDs of shape (B, T)\n",
        "\n",
        "        Returns:\n",
        "            Tensor: Combined multimodal embedding of shape (B, dim_model)\n",
        "        \"\"\"\n",
        "        # Visual encoder output: (B, N_patches, D) -> mean pooling -> (B, D)\n",
        "        img_feat = self.image_encoder(image_tensor).mean(dim=1)\n",
        "\n",
        "        # Text encoder output: (B, T, D) -> (B, D, T) for pooling -> (B, D)\n",
        "        txt_feat = self.text_encoder[0](text_tokens).transpose(1, 2)\n",
        "        txt_feat = self.text_encoder[1](txt_feat).squeeze(-1)\n",
        "\n",
        "        # Concatenate and fuse both modalities\n",
        "        combined = torch.cat([img_feat, txt_feat], dim=-1)\n",
        "        return self.fusion(combined)"
      ]
    },
    {
      "cell_type": "markdown",
      "metadata": {
        "id": "9d9240d5"
      },
      "source": [
        "### VisionEncoder: CNN-Based Fixed-Length Image Embedding Generator\n",
        "\n",
        "The `VisionEncoder` module transforms input images into fixed-size embedding vectors using a deep convolutional network. It employs a series of convolutional and max-pooling layers to progressively reduce spatial dimensions and extract hierarchical features. The final feature map is flattened and passed through a fully connected layer to produce a compact embedding vector. This design is well-suited for scenarios where image features need to be combined with other modalities, such as text, in downstream tasks like retrieval, matching, or classification.\n"
      ]
    },
    {
      "cell_type": "code",
      "execution_count": null,
      "metadata": {
        "id": "NrSmleLIZT85"
      },
      "outputs": [],
      "source": [
        "class VisionEncoder(nn.Module):\n",
        "    \"\"\"\n",
        "    A Convolutional Neural Network (CNN) for encoding images into fixed-size embeddings.\n",
        "\n",
        "    This encoder reduces the spatial dimensions of the input image using convolutional\n",
        "    and pooling layers, then flattens and projects the features into a low-dimensional\n",
        "    embedding vector using a fully connected layer.\n",
        "\n",
        "    Parameters:\n",
        "        embed_dim (int): Size of the output embedding vector\n",
        "    \"\"\"\n",
        "    def __init__(self, embed_dim=256):\n",
        "        super(VisionEncoder, self).__init__()\n",
        "\n",
        "        # Convolutional feature extractor\n",
        "        self.conv_layers = nn.Sequential(\n",
        "            nn.Conv2d(3, 32, kernel_size=3, stride=1, padding=1),  # Output: (32, 128, 128)\n",
        "            nn.ReLU(),\n",
        "            nn.MaxPool2d(2),  # Output: (32, 64, 64)\n",
        "\n",
        "            nn.Conv2d(32, 64, kernel_size=3, stride=1, padding=1),  # Output: (64, 64, 64)\n",
        "            nn.ReLU(),\n",
        "            nn.MaxPool2d(2),  # Output: (64, 32, 32)\n",
        "\n",
        "            nn.Conv2d(64, 128, kernel_size=3, stride=1, padding=1),  # Output: (128, 32, 32)\n",
        "            nn.ReLU(),\n",
        "            nn.MaxPool2d(2),  # Output: (128, 16, 16)\n",
        "        )\n",
        "\n",
        "        # Flatten and project to embedding\n",
        "        self.flatten = nn.Flatten()\n",
        "        self.fc = nn.Linear(128 * 16 * 16, embed_dim)  # Output: (batch_size, embed_dim)\n",
        "\n",
        "    def forward(self, x):\n",
        "        \"\"\"\n",
        "        Forward pass to encode an image into an embedding.\n",
        "\n",
        "        Parameters:\n",
        "            x (Tensor): Input image tensor of shape (B, 3, 128, 128)\n",
        "\n",
        "        Returns:\n",
        "            Tensor: Encoded image vector of shape (B, embed_dim)\n",
        "        \"\"\"\n",
        "        x = self.conv_layers(x)   # Apply CNN layers\n",
        "        x = self.flatten(x)       # Flatten the feature maps\n",
        "        x = self.fc(x)            # Fully connected layer to get the embedding\n",
        "        return x"
      ]
    },
    {
      "cell_type": "markdown",
      "source": [
        "### ContrastiveVisionEncoder: Lightweight CNN for Contrastive Embedding\n",
        "\n",
        "The `ContrastiveVisionEncoder` is a streamlined convolutional neural network designed for contrastive learning tasks such as SimCLR or CLIP. It uses strided convolutions to reduce spatial resolution, followed by global average pooling to generate a compact feature representation. A final linear layer projects the pooled features into a fixed-size embedding space. This architecture is optimized for efficiency and effective representation learning, making it ideal for contrastive objectives where similarity between image pairs is key.\n"
      ],
      "metadata": {
        "id": "Gmk0ui7tCNgy"
      }
    },
    {
      "cell_type": "code",
      "execution_count": null,
      "metadata": {
        "id": "ix1-Du14xj5v"
      },
      "outputs": [],
      "source": [
        "class ContrastiveVisionEncoder(nn.Module):\n",
        "    \"\"\"\n",
        "    A compact CNN encoder for contrastive learning.\n",
        "\n",
        "    This encoder is designed to map input images to fixed-size embeddings suitable\n",
        "    for contrastive loss objectives (e.g., SimCLR, CLIP). It applies convolutional\n",
        "    downsampling followed by global average pooling and a linear projection.\n",
        "\n",
        "    Parameters:\n",
        "        embed_dim (int): Dimensionality of the output embedding\n",
        "    \"\"\"\n",
        "    def __init__(self, embed_dim):\n",
        "        super().__init__()\n",
        "\n",
        "        # Convolutional backbone with spatial downsampling\n",
        "        self.encoder = nn.Sequential(\n",
        "            nn.Conv2d(3, 32, kernel_size=3, stride=2, padding=1),  # Downsample by 2\n",
        "            nn.ReLU(),\n",
        "            nn.Conv2d(32, 64, kernel_size=3, stride=2, padding=1),  # Downsample by 2\n",
        "            nn.ReLU(),\n",
        "            nn.AdaptiveAvgPool2d((1, 1))  # Global average pooling to (B, 64, 1, 1)\n",
        "        )\n",
        "\n",
        "        # Final linear projection to embedding space\n",
        "        self.fc = nn.Linear(64, embed_dim)\n",
        "\n",
        "    def forward(self, x):\n",
        "        \"\"\"\n",
        "        Forward pass to compute the contrastive embedding.\n",
        "\n",
        "        Parameters:\n",
        "            x (Tensor): Input image tensor of shape (B, 3, H, W)\n",
        "\n",
        "        Returns:\n",
        "            Tensor: Embedding of shape (B, embed_dim)\n",
        "        \"\"\"\n",
        "        x = self.encoder(x)             # Apply convolutional encoder\n",
        "        x = x.view(x.size(0), -1)       # Flatten to shape (B, 64)\n",
        "        return self.fc(x)               # Project to embedding space (B, embed_dim)\n"
      ]
    },
    {
      "cell_type": "markdown",
      "source": [
        "### TextEncoder: Lightweight Sentence Encoder for Embedding Tasks\n",
        "\n",
        "The `TextEncoder` maps input token sequences into fixed-size sentence embeddings using a simple yet effective architecture. It first converts token IDs into dense vectors via an embedding lookup, then applies mean pooling to aggregate information across the sequence. A final linear projection refines the representation for contrastive learning or classification tasks. This design is computationally efficient and well-suited for scenarios where fast, general-purpose text embeddings are required."
      ],
      "metadata": {
        "id": "vImd3GBh-TwU"
      }
    },
    {
      "cell_type": "code",
      "execution_count": null,
      "metadata": {
        "id": "VqQNbvpdZRXg"
      },
      "outputs": [],
      "source": [
        "class TextEncoder(nn.Module):\n",
        "    \"\"\"\n",
        "    A lightweight text encoder for contrastive or classification tasks.\n",
        "\n",
        "    This module maps token sequences to dense vector embeddings using:\n",
        "    1. An embedding lookup table\n",
        "    2. Mean pooling over token embeddings\n",
        "    3. A linear projection to the desired output space\n",
        "\n",
        "    Parameters:\n",
        "        vocab_size (int): Number of tokens in the vocabulary\n",
        "        embed_dim (int): Dimensionality of the output embedding\n",
        "    \"\"\"\n",
        "    def __init__(self, vocab_size, embed_dim):\n",
        "        super().__init__()\n",
        "\n",
        "        # Token embedding layer\n",
        "        self.embed = nn.Embedding(vocab_size, embed_dim)\n",
        "\n",
        "        # Final projection layer (can learn task-specific transformation)\n",
        "        self.fc = nn.Linear(embed_dim, embed_dim)\n",
        "\n",
        "    def forward(self, x):\n",
        "        \"\"\"\n",
        "        Forward pass to compute sentence-level embeddings.\n",
        "\n",
        "        Parameters:\n",
        "            x (Tensor): Input token IDs of shape (B, T)\n",
        "\n",
        "        Returns:\n",
        "            Tensor: Encoded sentence embeddings of shape (B, embed_dim)\n",
        "        \"\"\"\n",
        "        x = self.embed(x)        # Shape: (B, T, embed_dim)\n",
        "        x = x.mean(dim=1)        # Mean pooling over tokens: (B, embed_dim)\n",
        "        return self.fc(x)        # Linear projection"
      ]
    },
    {
      "cell_type": "markdown",
      "source": [
        "### Contrastive Training Loop: Aligning Vision and Text Embeddings\n",
        "This function implements a contrastive learning loop that jointly trains the vision and text encoders. The goal is to learn a shared embedding space where image and text pairs are pulled closer, and mismatched pairs are pushed apart. It uses cosine similarity and contrastive loss with temperature scaling. During each epoch, it computes similarity matrices, applies symmetric cross-entropy loss (image-to-text and text-to-image), and updates model parameters via backpropagation.\n",
        "\n"
      ],
      "metadata": {
        "id": "mr7M4TTA-aKM"
      }
    },
    {
      "cell_type": "code",
      "execution_count": null,
      "metadata": {
        "id": "TmB7U8XlZ0Cx"
      },
      "outputs": [],
      "source": [
        "def contrastive_training_loop(train_loader, vision_encoder, text_encoder, optimizer, device,\n",
        "                              epochs=10, temperature=0.07):\n",
        "    \"\"\"\n",
        "    Trains vision and text encoders using a contrastive loss objective.\n",
        "\n",
        "    The training aligns image and text embeddings such that:\n",
        "    - Matching image-text pairs are closer in embedding space\n",
        "    - Non-matching pairs are pushed apart\n",
        "\n",
        "    Contrastive loss is computed using:\n",
        "    - Cosine similarity between normalized embeddings\n",
        "    - Cross-entropy with softmax over the similarity matrix\n",
        "\n",
        "    Parameters:\n",
        "        train_loader (DataLoader): DataLoader returning (image, caption) batches\n",
        "        vision_encoder (nn.Module): Image encoder model\n",
        "        text_encoder (nn.Module): Text encoder model\n",
        "        optimizer (torch.optim.Optimizer): Optimizer for both encoders\n",
        "        device (torch.device): Device to train on ('cuda' or 'cpu')\n",
        "        epochs (int): Number of training epochs\n",
        "        temperature (float): Temperature scaling for contrastive softmax\n",
        "    \"\"\"\n",
        "    # Move models to the training device\n",
        "    vision_encoder.to(device)\n",
        "    text_encoder.to(device)\n",
        "    vision_encoder.train()\n",
        "    text_encoder.train()\n",
        "\n",
        "    for epoch in range(epochs):\n",
        "        total_loss = 0\n",
        "\n",
        "        for images, captions in tqdm(train_loader, desc=f\"Epoch {epoch+1}\"):\n",
        "            # Move batch to device\n",
        "            images = images.to(device)\n",
        "            captions = captions.to(device)\n",
        "\n",
        "            # Compute normalized embeddings\n",
        "            img_embed = F.normalize(vision_encoder(images), dim=1)   # (B, D)\n",
        "            txt_embed = F.normalize(text_encoder(captions), dim=1)   # (B, D)\n",
        "\n",
        "            # Compute cosine similarity (dot product) matrix\n",
        "            logits = img_embed @ txt_embed.T                         # (B, B)\n",
        "            labels = torch.arange(images.size(0)).to(device)         # Ground truth: i-th image matches i-th text\n",
        "\n",
        "            # Contrastive loss: Image-to-Text and Text-to-Image\n",
        "            loss_i2t = F.cross_entropy(logits / temperature, labels)\n",
        "            loss_t2i = F.cross_entropy(logits.T / temperature, labels)\n",
        "            loss = (loss_i2t + loss_t2i) / 2\n",
        "\n",
        "            # Backpropagation and optimization\n",
        "            optimizer.zero_grad()\n",
        "            loss.backward()\n",
        "            optimizer.step()\n",
        "\n",
        "            total_loss += loss.item()\n",
        "\n",
        "        # Print average loss per epoch\n",
        "        print(f\"Epoch {epoch+1} Loss: {total_loss / len(train_loader):.4f}\")"
      ]
    },
    {
      "cell_type": "markdown",
      "metadata": {
        "id": "00a5879c"
      },
      "source": [
        "### TitleDecoder: LSTM-Based Product Title Generator\n",
        "The `TitleDecoder` is a recurrent neural network module that generates product titles from image embeddings. It uses an LSTM decoder architecture and supports:\n",
        "\n",
        "`Teacher Forcing` during training: Ground-truth tokens guide the sequence generation.\n",
        "\n",
        "`Greedy Decoding` during inference: The next token is chosen by selecting the most probable word at each step.\n",
        "\n",
        "Key components include:\n",
        "\n",
        " - An embedding layer to convert tokens to vectors.\n",
        "\n",
        " - An LSTM network to model sequential dependencies.\n",
        "\n",
        " - A linear layer to map LSTM outputs to vocabulary scores.\n",
        "\n",
        "MLPs to initialize the LSTM’s hidden and cell states from the image feature vector.\n",
        "\n",
        "This module plays a crucial role in generating meaningful product descriptions from visual features.\n",
        "\n"
      ]
    },
    {
      "cell_type": "code",
      "execution_count": null,
      "metadata": {
        "id": "21qmrmDIxj8-"
      },
      "outputs": [],
      "source": [
        "class TitleDecoder(nn.Module):\n",
        "    \"\"\"\n",
        "    LSTM-based decoder for generating product titles from image embeddings.\n",
        "\n",
        "    The decoder supports:\n",
        "    - Teacher forcing (used during training)\n",
        "    - Greedy decoding (used during inference)\n",
        "\n",
        "    Parameters:\n",
        "        vocab_size (int): Size of the vocabulary\n",
        "        embed_dim (int): Dimensionality of token embeddings\n",
        "        hidden_dim (int): Hidden size of the LSTM\n",
        "        num_layers (int): Number of LSTM layers\n",
        "        max_len (int): Maximum length of decoded sequences\n",
        "    \"\"\"\n",
        "    def __init__(self, vocab_size, embed_dim=256, hidden_dim=512, num_layers=1, max_len=32):\n",
        "        super(TitleDecoder, self).__init__()\n",
        "\n",
        "        # Token embedding layer\n",
        "        self.embed = nn.Embedding(vocab_size, embed_dim)\n",
        "\n",
        "        # LSTM for sequence generation\n",
        "        self.lstm = nn.LSTM(embed_dim, hidden_dim, num_layers, batch_first=True)\n",
        "\n",
        "        # Output layer to map hidden states to vocabulary logits\n",
        "        self.fc = nn.Linear(hidden_dim, vocab_size)\n",
        "\n",
        "        # MLPs to initialize LSTM hidden and cell state from image embedding\n",
        "        self.init_h = nn.Linear(embed_dim, hidden_dim)\n",
        "        self.init_c = nn.Linear(embed_dim, hidden_dim)\n",
        "\n",
        "        self.max_len = max_len\n",
        "\n",
        "    def forward(self, img_embedding, tgt_tokens=None, teacher_forcing=True):\n",
        "        \"\"\"\n",
        "        Forward pass to decode image embeddings into sequences.\n",
        "\n",
        "        Parameters:\n",
        "            img_embedding (Tensor): Image feature vectors, shape (B, embed_dim)\n",
        "            tgt_tokens (Tensor, optional): Ground truth token IDs for teacher forcing, shape (B, T)\n",
        "            teacher_forcing (bool): Whether to use teacher forcing during training\n",
        "\n",
        "        Returns:\n",
        "            Tensor: Logits over vocabulary (B, T, vocab_size) if teacher forcing\n",
        "                    or generated token IDs (B, max_len) if greedy decoding\n",
        "        \"\"\"\n",
        "        batch_size = img_embedding.size(0)\n",
        "\n",
        "        # Initialize LSTM hidden and cell states from image embedding\n",
        "        h0 = self.init_h(img_embedding).unsqueeze(0)  # Shape: (1, B, hidden_dim)\n",
        "        c0 = self.init_c(img_embedding).unsqueeze(0)  # Shape: (1, B, hidden_dim)\n",
        "\n",
        "        if teacher_forcing and tgt_tokens is not None:\n",
        "            # ---- Teacher Forcing Mode ----\n",
        "            embeddings = self.embed(tgt_tokens)             # (B, T, embed_dim)\n",
        "            output, _ = self.lstm(embeddings, (h0, c0))     # (B, T, hidden_dim)\n",
        "            return self.fc(output)                          # (B, T, vocab_size)\n",
        "\n",
        "        else:\n",
        "            # ---- Inference Mode (Greedy Decoding) ----\n",
        "            outputs = []\n",
        "            input_token = torch.full((batch_size, 1), tokenizer.start_token_id, device=img_embedding.device)\n",
        "            hidden = (h0, c0)\n",
        "\n",
        "            for _ in range(self.max_len):\n",
        "                emb = self.embed(input_token)              # (B, 1, embed_dim)\n",
        "                out, hidden = self.lstm(emb, hidden)       # (B, 1, hidden_dim)\n",
        "                logits = self.fc(out.squeeze(1))           # (B, vocab_size)\n",
        "                predicted = logits.argmax(dim=-1).unsqueeze(1)  # (B, 1)\n",
        "                outputs.append(predicted)\n",
        "                input_token = predicted                    # Use prediction as next input\n",
        "\n",
        "            return torch.cat(outputs, dim=1)               # (B, max_len)"
      ]
    },
    {
      "cell_type": "markdown",
      "source": [
        "### VLMTitleGenerator: Vision-Language Model for Product Title Generation\n",
        "\n",
        "The `VLMTitleGenerator` combines a convolutional **vision encoder** with an LSTM-based **text decoder** to generate product titles from images. This model forms a complete end-to-end vision-to-text pipeline.\n",
        "\n",
        "**Functionality:**\n",
        "- **Training Mode:** Uses teacher forcing with ground truth titles to guide sequence generation.\n",
        "- **Inference Mode:** Generates titles greedily from scratch using only the image embedding.\n",
        "\n",
        "**Architecture:**\n",
        "- **Encoder:** A CNN (`VisionEncoder`) that compresses the input image into a fixed-size embedding.\n",
        "- **Decoder:** An LSTM (`TitleDecoder`) initialized with the image embedding to generate text sequences.\n",
        "\n",
        "This model is used in tasks like product captioning, where generating a meaningful title from an image is essential.\n"
      ],
      "metadata": {
        "id": "VBst6Lql_GIJ"
      }
    },
    {
      "cell_type": "code",
      "execution_count": null,
      "metadata": {
        "id": "gyJpuTGexkAR"
      },
      "outputs": [],
      "source": [
        "class VLMTitleGenerator(nn.Module):\n",
        "    \"\"\"\n",
        "    Vision-Language Model for Title Generation.\n",
        "\n",
        "    This model consists of:\n",
        "    - A vision encoder to extract image features\n",
        "    - An LSTM-based decoder to generate text (product titles)\n",
        "\n",
        "    The forward method supports both:\n",
        "    - Training mode with teacher forcing\n",
        "    - Inference mode with greedy decoding\n",
        "\n",
        "    Parameters:\n",
        "        vocab_size (int): Number of tokens in the vocabulary\n",
        "    \"\"\"\n",
        "    def __init__(self, vocab_size):\n",
        "        super(VLMTitleGenerator, self).__init__()\n",
        "\n",
        "        # Vision encoder to extract fixed-size image embedding\n",
        "        self.encoder = VisionEncoder()\n",
        "\n",
        "        # Decoder to generate text from the image embedding\n",
        "        self.decoder = TitleDecoder(vocab_size)\n",
        "\n",
        "    def forward(self, images, tgt_tokens=None, teacher_forcing=True):\n",
        "        \"\"\"\n",
        "        Forward pass to generate or train titles from images.\n",
        "\n",
        "        Parameters:\n",
        "            images (Tensor): Batch of input images (B, 3, H, W)\n",
        "            tgt_tokens (Tensor, optional): Ground truth token IDs (B, T) for teacher forcing\n",
        "            teacher_forcing (bool): Whether to use ground truth tokens during training\n",
        "\n",
        "        Returns:\n",
        "            Tensor:\n",
        "                - (B, T, vocab_size) during training\n",
        "                - (B, max_len) during inference\n",
        "        \"\"\"\n",
        "        img_embed = self.encoder(images)  # Encode images to embeddings\n",
        "        return self.decoder(img_embed, tgt_tokens, teacher_forcing=teacher_forcing)"
      ]
    },
    {
      "cell_type": "markdown",
      "source": [
        "### TextComposer: Transformer-based Decoder for Title Generation\n",
        "\n",
        "The `TextComposer` is a Transformer-based decoder that generates text sequences conditioned on image embeddings or encoder outputs. It is suitable for tasks like product title generation or multimodal captioning.\n",
        "\n",
        "**Key Features:**\n",
        "- Uses **token embeddings** and **learnable positional encodings**.\n",
        "- Based on `nn.TransformerDecoder`, enabling autoregressive generation.\n",
        "- Can attend to an external **memory** (e.g., image features) while decoding.\n",
        "- Supports **causal masking** for autoregressive sequence generation.\n",
        "\n",
        "**Architecture:**\n",
        "- Token Embedding: Converts token indices into dense vectors.\n",
        "- Positional Encoding: Learnable positional signals to preserve order.\n",
        "- Transformer Decoder Stack: Multiple layers of multi-head self-attention and cross-attention.\n",
        "- Output Projection: A linear layer maps decoder outputs to vocabulary logits.\n",
        "\n",
        "**Input Shapes:**\n",
        "- `tgt`: (B, T) – Target token indices.\n",
        "- `memory`: (B, S, D) – Contextual features from encoder (e.g., image embeddings).\n",
        "- Returns: (B, T, vocab_size) – Logits over vocabulary for each position in the sequence."
      ],
      "metadata": {
        "id": "Q0tmElbp_LCU"
      }
    },
    {
      "cell_type": "code",
      "execution_count": null,
      "metadata": {
        "id": "qN6c0EnzxkHz"
      },
      "outputs": [],
      "source": [
        "class TextComposer(nn.Module):\n",
        "    \"\"\"\n",
        "    Transformer-based text decoder that composes sequences conditioned on image embeddings.\n",
        "\n",
        "    This module uses:\n",
        "    - Learned word embeddings\n",
        "    - Learnable positional encodings\n",
        "    - Multi-layer TransformerDecoder for sequence generation\n",
        "\n",
        "    Parameters:\n",
        "        vocab_size (int): Size of vocabulary\n",
        "        dim_model (int): Dimensionality of embeddings and hidden states\n",
        "        num_layers (int): Number of decoder layers\n",
        "        num_heads (int): Number of attention heads\n",
        "        ff_dim (int): Feed-forward network dimension\n",
        "        max_len (int): Maximum sequence length for decoding\n",
        "    \"\"\"\n",
        "    def __init__(self, vocab_size, dim_model, num_layers, num_heads, ff_dim, max_len):\n",
        "        super(TextComposer, self).__init__()\n",
        "\n",
        "        # Token embedding layer\n",
        "        self.embedding = nn.Embedding(vocab_size, dim_model)\n",
        "\n",
        "        # Learnable positional encoding (shape: [1, max_len, dim_model])\n",
        "        self.positional_encoding = nn.Parameter(torch.randn(1, max_len, dim_model))\n",
        "\n",
        "        self.dropout = nn.Dropout(0.3)\n",
        "\n",
        "        # Transformer decoder layer setup\n",
        "        decoder_layer = nn.TransformerDecoderLayer(\n",
        "            d_model=dim_model,\n",
        "            nhead=num_heads,\n",
        "            dim_feedforward=ff_dim,\n",
        "            batch_first=True,\n",
        "            dropout=0.3\n",
        "        )\n",
        "\n",
        "        # Stack of Transformer decoder layers\n",
        "        self.transformer = nn.TransformerDecoder(decoder_layer, num_layers=num_layers)\n",
        "\n",
        "        # Final linear layer projecting to vocabulary logits\n",
        "        self.fc = nn.Linear(dim_model, vocab_size)\n",
        "\n",
        "    def forward(self, tgt, memory, src_mask=None, tgt_mask=None):\n",
        "        \"\"\"\n",
        "        Forward pass for sequence generation.\n",
        "\n",
        "        Parameters:\n",
        "            tgt (Tensor): Target token IDs (B, T) - tokens generated so far\n",
        "            memory (Tensor): Encoder memory (e.g., image features) (B, S, D)\n",
        "            src_mask (Tensor, optional): Mask applied to encoder memory (for attention)\n",
        "            tgt_mask (Tensor, optional): Causal mask for autoregressive decoding\n",
        "\n",
        "        Returns:\n",
        "            Tensor: Output logits over vocabulary (B, T, vocab_size)\n",
        "        \"\"\"\n",
        "        # Embed tokens and add positional information\n",
        "        x = self.embedding(tgt) + self.positional_encoding[:, :tgt.size(1), :]\n",
        "\n",
        "        # Decode using TransformerDecoder\n",
        "        x = self.transformer(tgt=x, memory=memory, memory_mask=src_mask, tgt_mask=tgt_mask)\n",
        "\n",
        "        # Final projection to vocabulary space\n",
        "        return self.fc(self.dropout(x))"
      ]
    },
    {
      "cell_type": "markdown",
      "source": [
        "### VisionLanguageModel: Transformer-based Vision-Language Generator\n",
        "\n",
        "The `VisionLanguageModel` is a unified architecture for generating sequences (e.g., titles, captions) conditioned on visual inputs.\n",
        "\n",
        "**Model Components:**\n",
        "- **Vision Encoder**: Combines a CNN-based `VisionFeatureExtractor` and a stack of `ContextualBlock`s (via `VisualInterpreter`) to produce contextualized visual patch embeddings.\n",
        "- **Transformer Decoder (`TextComposer`)**: Uses multi-head self- and cross-attention to generate output sequences from image features.\n",
        "\n",
        "**Use Cases:**\n",
        "- Multimodal captioning\n",
        "- Title generation from product images\n",
        "- Vision-language pretraining setups\n",
        "\n",
        "**Forward Pass Inputs:**\n",
        "- `images`: (B, 3, H, W) – Batch of images\n",
        "- `captions`: (B, T) – Target token IDs (e.g., for teacher forcing)\n",
        "- `src_mask`: Optional attention mask for the encoder\n",
        "- `tgt_mask`: Optional causal mask for autoregressive decoding\n",
        "\n",
        "**Returns:**\n",
        "- `logits`: (B, T, vocab_size) – Vocabulary logits for each token position"
      ],
      "metadata": {
        "id": "m-AQcJbJ_QWV"
      }
    },
    {
      "cell_type": "code",
      "execution_count": null,
      "metadata": {
        "id": "c1r783UVxkEZ"
      },
      "outputs": [],
      "source": [
        "class VisionLanguageModel(nn.Module):\n",
        "    \"\"\"\n",
        "    Transformer-based Vision-Language Model (VLM) for sequence generation.\n",
        "\n",
        "    This model combines:\n",
        "    - A vision encoder to extract patch-level visual embeddings from images\n",
        "    - A Transformer decoder (TextComposer) to generate captions or titles\n",
        "\n",
        "    Parameters:\n",
        "        image_embed_dim (int): Dimensionality of image and text embeddings\n",
        "        vocab_size (int): Vocabulary size for decoding\n",
        "        num_layers (int): Number of layers in the Transformer decoder\n",
        "        num_heads (int): Number of attention heads\n",
        "        ff_dim (int): Feed-forward dimension inside Transformer layers\n",
        "        max_len (int): Maximum output sequence length\n",
        "    \"\"\"\n",
        "    def __init__(self, image_embed_dim, vocab_size, num_layers, num_heads, ff_dim, max_len):\n",
        "        super().__init__()\n",
        "\n",
        "        # ---- Visual Encoder ----\n",
        "        # Extracts visual features using CNN and Transformer blocks\n",
        "        self.vision_encoder = nn.Sequential(\n",
        "            VisionFeatureExtractor(in_channels=3, patch_dim=image_embed_dim),\n",
        "            VisualInterpreter(\n",
        "                input_dim=image_embed_dim,\n",
        "                dim_model=image_embed_dim,\n",
        "                num_heads=num_heads,\n",
        "                dim_ff=ff_dim,\n",
        "                depth=num_layers\n",
        "            )\n",
        "        )\n",
        "\n",
        "        # ---- Transformer Decoder ----\n",
        "        # Decodes token sequences conditioned on visual features\n",
        "        self.decoder = TextComposer(\n",
        "            vocab_size=vocab_size,\n",
        "            dim_model=image_embed_dim,\n",
        "            num_heads=num_heads,\n",
        "            ff_dim=ff_dim,\n",
        "            num_layers=num_layers,\n",
        "            max_len=max_len\n",
        "        )\n",
        "\n",
        "    def forward(self, images, captions, src_mask=None, tgt_mask=None):\n",
        "        \"\"\"\n",
        "        Forward pass for sequence generation.\n",
        "\n",
        "        Parameters:\n",
        "            images (Tensor): Input image batch, shape (B, 3, H, W)\n",
        "            captions (Tensor): Tokenized target captions, shape (B, T)\n",
        "            src_mask (Tensor, optional): Mask for encoder memory (patch-level attention)\n",
        "            tgt_mask (Tensor, optional): Causal mask for autoregressive decoding\n",
        "\n",
        "        Returns:\n",
        "            Tensor: Output logits for each token in the vocabulary (B, T, vocab_size)\n",
        "        \"\"\"\n",
        "        # Encode input images into patch-level features\n",
        "        visual_features = self.vision_encoder(images)  # (B, N_patches, D)\n",
        "\n",
        "        # Decode caption tokens using the Transformer decoder\n",
        "        output_logits = self.decoder(\n",
        "            captions,\n",
        "            memory=visual_features,\n",
        "            src_mask=src_mask,\n",
        "            tgt_mask=tgt_mask\n",
        "        )\n",
        "\n",
        "        return output_logits"
      ]
    },
    {
      "cell_type": "markdown",
      "metadata": {
        "id": "91d69c72"
      },
      "source": [
        "### SimpleCrossEntropyLoss: Token-Level Loss for Sequence Generation\n",
        "\n",
        "This custom loss module is designed for training sequence decoders (e.g., in language generation tasks). It extends PyTorch’s `nn.Module` and wraps around `nn.CrossEntropyLoss` with padding token handling.\n",
        "\n",
        "**Key Features:**\n",
        "- Token-level cross-entropy\n",
        "- Ignores loss from padding positions using `ignore_index=pad_token_id`\n",
        "\n",
        "**Parameters:**\n",
        "- `pad_token_id`: ID of the padding token to be ignored during training.\n",
        "\n",
        "**Input Shapes:**\n",
        "- `pred_logits`: (B, T, V) — Predicted logits over the vocabulary\n",
        "- `target_ids`: (B, T) — Ground truth token indices\n",
        "\n",
        "**Returns:**\n",
        "- A scalar loss tensor computed over all valid (non-padded) tokens."
      ]
    },
    {
      "cell_type": "code",
      "execution_count": null,
      "metadata": {
        "id": "uRLqDww516CU"
      },
      "outputs": [],
      "source": [
        "class SimpleCrossEntropyLoss(nn.Module):\n",
        "    \"\"\"\n",
        "    Custom cross-entropy loss for sequence generation tasks.\n",
        "\n",
        "    This loss function:\n",
        "    - Applies token-level cross-entropy\n",
        "    - Ignores padded positions using `ignore_index`\n",
        "\n",
        "    Parameters:\n",
        "        pad_token_id (int): The token ID used for padding (to be ignored during loss computation)\n",
        "    \"\"\"\n",
        "    def __init__(self, pad_token_id):\n",
        "        super().__init__()\n",
        "        self.pad_token_id = pad_token_id\n",
        "\n",
        "        # CrossEntropyLoss with padding ignored\n",
        "        self.loss_fn = nn.CrossEntropyLoss(ignore_index=pad_token_id)\n",
        "\n",
        "    def forward(self, pred_logits, target_ids):\n",
        "        \"\"\"\n",
        "        Compute cross-entropy loss between predicted logits and target tokens.\n",
        "\n",
        "        Parameters:\n",
        "            pred_logits (Tensor): Predicted token logits (B, T, V)\n",
        "            target_ids (Tensor): Ground truth token IDs (B, T)\n",
        "\n",
        "        Returns:\n",
        "            Tensor: Scalar loss value\n",
        "        \"\"\"\n",
        "        # Flatten for token-level loss: (B*T, V) vs (B*T)\n",
        "        pred_logits = pred_logits.reshape(-1, pred_logits.size(-1))\n",
        "        target_ids = target_ids.reshape(-1)\n",
        "\n",
        "        return self.loss_fn(pred_logits, target_ids)"
      ]
    },
    {
      "cell_type": "markdown",
      "metadata": {
        "id": "26dc12e3"
      },
      "source": [
        "---\n",
        "\n",
        "## Training Process\n",
        "\n",
        "This section covers the training pipeline, from data loading to model optimization.\n",
        "\n",
        "### Key Steps:\n",
        "\n",
        "- **Data Loading**: Images and titles are read using a custom PyTorch `Dataset` class.\n",
        "- **Preprocessing**: Images are resized and normalized. Text is tokenized and embedded.\n",
        "- **Training Loop**:\n",
        "  - Forward pass: Combined embeddings go through the network.\n",
        "  - Loss: Calculated using contrastive loss or cosine similarity margin loss.\n",
        "  - Backpropagation: Optimizer updates the model parameters.\n",
        "- **Regularization**: Dropout is used in the neural network to avoid overfitting.\n",
        "\n",
        "### Hyperparameters Used:\n",
        "\n",
        "| Parameter       | Value        | Reasoning                         |\n",
        "|----------------|--------------|-----------------------------------|\n",
        "| Learning Rate  | 0.0005        | Stable convergence                |\n",
        "| Batch Size     | 64           | Balanced speed and stability      |\n",
        "| Epochs         | 30           | Enough to observe performance trend |\n",
        "| Optimizer      | Adam         | Adaptive learning rate algorithm  |\n",
        "\n",
        "Below is the code implementation of this process, along with logs showing training progress."
      ]
    },
    {
      "cell_type": "code",
      "execution_count": null,
      "metadata": {
        "id": "L9ishScJ16Ov"
      },
      "outputs": [],
      "source": [
        "# ----------------------------\n",
        "# Training Setup for Vision-Language Model\n",
        "# ----------------------------\n",
        "\n",
        "batch_size = 64  # Mini-batch size for training\n",
        "\n",
        "# ----------------------------\n",
        "# Utility: Generate Causal Mask\n",
        "# ----------------------------\n",
        "def generate_square_subsequent_mask(sz):\n",
        "    \"\"\"\n",
        "    Creates a causal mask for Transformer decoder to preserve autoregressive property.\n",
        "\n",
        "    Parameters:\n",
        "        sz (int): Target sequence length\n",
        "\n",
        "    Returns:\n",
        "        Tensor: Upper-triangular mask with -inf above the diagonal\n",
        "    \"\"\"\n",
        "    return torch.triu(torch.ones(sz, sz, device=device) * float('-inf'), diagonal=1)\n",
        "\n",
        "# ----------------------------\n",
        "# Device Setup\n",
        "# ----------------------------\n",
        "device = torch.device(\"cuda\" if torch.cuda.is_available() else \"cpu\")\n",
        "\n",
        "# ----------------------------\n",
        "# Model Initialization\n",
        "# ----------------------------\n",
        "model = VisionLanguageModel(\n",
        "    image_embed_dim=256,\n",
        "    vocab_size=tokenizer.vocab_size,\n",
        "    num_layers=2,\n",
        "    num_heads=4,\n",
        "    ff_dim=512,\n",
        "    max_len=64\n",
        ").to(device)  # Move model to GPU or CPU\n",
        "\n",
        "# ----------------------------\n",
        "# Loss & Optimizer\n",
        "# ----------------------------\n",
        "loss_fn = SimpleCrossEntropyLoss(pad_token_id=tokenizer.pad_token_id)\n",
        "optimizer = optim.Adam(model.parameters(), lr=5e-4)"
      ]
    },
    {
      "cell_type": "markdown",
      "metadata": {
        "id": "081d60aa"
      },
      "source": [
        "### Training & evaluating the model\n",
        "This code block performs an intermediate operation in our pipeline. Please refer to inline comments for details."
      ]
    },
    {
      "cell_type": "code",
      "execution_count": null,
      "metadata": {
        "id": "qXy_ZtNGxEWP"
      },
      "outputs": [],
      "source": [
        "def clean_text(text):\n",
        "    \"\"\"\n",
        "    Lowercase, remove punctuation, and normalize whitespace in the text.\n",
        "    \"\"\"\n",
        "    text = text.lower()\n",
        "    text = re.sub(r'[^\\w\\s]', '', text)      # Remove punctuation\n",
        "    text = re.sub(r'\\s+', ' ', text).strip() # Normalize whitespace\n",
        "    return text"
      ]
    },
    {
      "cell_type": "code",
      "execution_count": null,
      "metadata": {
        "id": "O0yg4Qs5xgnb"
      },
      "outputs": [],
      "source": [
        "smoothie = SmoothingFunction().method4"
      ]
    },
    {
      "cell_type": "code",
      "execution_count": null,
      "metadata": {
        "colab": {
          "base_uri": "https://localhost:8080/"
        },
        "id": "fkRwgBVettXr",
        "outputId": "a72507bf-c19d-4e13-e644-d72b63cce082"
      },
      "outputs": [
        {
          "name": "stdout",
          "output_type": "stream",
          "text": [
            "\n",
            "Epoch 1/30\n"
          ]
        },
        {
          "name": "stderr",
          "output_type": "stream",
          "text": []
        },
        {
          "name": "stdout",
          "output_type": "stream",
          "text": [
            "Train Loss: 8.0553, Train Acc: 0.0034, Val Loss: 7.6046, Val Acc: 0.0038\n",
            "BLEU Score: 0.0012\n",
            "\n",
            "Epoch 2/30\n"
          ]
        },
        {
          "name": "stderr",
          "output_type": "stream",
          "text": []
        },
        {
          "name": "stdout",
          "output_type": "stream",
          "text": [
            "Train Loss: 7.4609, Train Acc: 0.0041, Val Loss: 7.5620, Val Acc: 0.0038\n",
            "BLEU Score: 0.0012\n",
            "\n",
            "Epoch 3/30\n"
          ]
        },
        {
          "name": "stderr",
          "output_type": "stream",
          "text": []
        },
        {
          "name": "stdout",
          "output_type": "stream",
          "text": [
            "Train Loss: 7.2612, Train Acc: 0.0041, Val Loss: 7.4847, Val Acc: 0.0059\n",
            "BLEU Score: 0.0043\n",
            "\n",
            "Epoch 4/30\n"
          ]
        },
        {
          "name": "stderr",
          "output_type": "stream",
          "text": []
        },
        {
          "name": "stdout",
          "output_type": "stream",
          "text": [
            "Train Loss: 7.0839, Train Acc: 0.0065, Val Loss: 7.3897, Val Acc: 0.0065\n",
            "BLEU Score: 0.0044\n",
            "\n",
            "Epoch 5/30\n"
          ]
        },
        {
          "name": "stderr",
          "output_type": "stream",
          "text": []
        },
        {
          "name": "stdout",
          "output_type": "stream",
          "text": [
            "Train Loss: 6.8554, Train Acc: 0.0081, Val Loss: 7.3184, Val Acc: 0.0086\n",
            "BLEU Score: 0.0048\n",
            "\n",
            "Epoch 6/30\n"
          ]
        },
        {
          "name": "stderr",
          "output_type": "stream",
          "text": []
        },
        {
          "name": "stdout",
          "output_type": "stream",
          "text": [
            "Train Loss: 6.6013, Train Acc: 0.0103, Val Loss: 7.1303, Val Acc: 0.0136\n",
            "BLEU Score: 0.0056\n",
            "\n",
            "Epoch 7/30\n"
          ]
        },
        {
          "name": "stderr",
          "output_type": "stream",
          "text": []
        },
        {
          "name": "stdout",
          "output_type": "stream",
          "text": [
            "Train Loss: 6.3109, Train Acc: 0.0140, Val Loss: 7.0133, Val Acc: 0.0157\n",
            "BLEU Score: 0.0063\n",
            "\n",
            "Epoch 8/30\n"
          ]
        },
        {
          "name": "stderr",
          "output_type": "stream",
          "text": []
        },
        {
          "name": "stdout",
          "output_type": "stream",
          "text": [
            "Train Loss: 6.0219, Train Acc: 0.0170, Val Loss: 6.9158, Val Acc: 0.0173\n",
            "BLEU Score: 0.0066\n",
            "\n",
            "Epoch 9/30\n"
          ]
        },
        {
          "name": "stderr",
          "output_type": "stream",
          "text": []
        },
        {
          "name": "stdout",
          "output_type": "stream",
          "text": [
            "Train Loss: 5.7374, Train Acc: 0.0212, Val Loss: 6.8004, Val Acc: 0.0194\n",
            "BLEU Score: 0.0072\n",
            "\n",
            "Epoch 10/30\n"
          ]
        },
        {
          "name": "stderr",
          "output_type": "stream",
          "text": []
        },
        {
          "name": "stdout",
          "output_type": "stream",
          "text": [
            "Train Loss: 5.4490, Train Acc: 0.0266, Val Loss: 6.7332, Val Acc: 0.0212\n",
            "BLEU Score: 0.0073\n",
            "\n",
            "Epoch 11/30\n"
          ]
        },
        {
          "name": "stderr",
          "output_type": "stream",
          "text": []
        },
        {
          "name": "stdout",
          "output_type": "stream",
          "text": [
            "Train Loss: 5.1651, Train Acc: 0.0312, Val Loss: 6.6346, Val Acc: 0.0237\n",
            "BLEU Score: 0.0082\n",
            "\n",
            "Epoch 12/30\n"
          ]
        },
        {
          "name": "stderr",
          "output_type": "stream",
          "text": []
        },
        {
          "name": "stdout",
          "output_type": "stream",
          "text": [
            "Train Loss: 4.8852, Train Acc: 0.0366, Val Loss: 6.5608, Val Acc: 0.0249\n",
            "BLEU Score: 0.0087\n",
            "\n",
            "Epoch 13/30\n"
          ]
        },
        {
          "name": "stderr",
          "output_type": "stream",
          "text": []
        },
        {
          "name": "stdout",
          "output_type": "stream",
          "text": [
            "Train Loss: 4.6106, Train Acc: 0.0425, Val Loss: 6.4950, Val Acc: 0.0268\n",
            "BLEU Score: 0.0091\n",
            "\n",
            "Epoch 14/30\n"
          ]
        },
        {
          "name": "stderr",
          "output_type": "stream",
          "text": []
        },
        {
          "name": "stdout",
          "output_type": "stream",
          "text": [
            "Train Loss: 4.3307, Train Acc: 0.0484, Val Loss: 6.4619, Val Acc: 0.0270\n",
            "BLEU Score: 0.0090\n",
            "\n",
            "Epoch 15/30\n"
          ]
        },
        {
          "name": "stderr",
          "output_type": "stream",
          "text": []
        },
        {
          "name": "stdout",
          "output_type": "stream",
          "text": [
            "Train Loss: 4.0865, Train Acc: 0.0540, Val Loss: 6.4026, Val Acc: 0.0298\n",
            "BLEU Score: 0.0100\n",
            "\n",
            "Epoch 16/30\n"
          ]
        },
        {
          "name": "stderr",
          "output_type": "stream",
          "text": []
        },
        {
          "name": "stdout",
          "output_type": "stream",
          "text": [
            "Train Loss: 3.8268, Train Acc: 0.0620, Val Loss: 6.3933, Val Acc: 0.0310\n",
            "BLEU Score: 0.0107\n",
            "\n",
            "Epoch 17/30\n"
          ]
        },
        {
          "name": "stderr",
          "output_type": "stream",
          "text": []
        },
        {
          "name": "stdout",
          "output_type": "stream",
          "text": [
            "Train Loss: 3.5876, Train Acc: 0.0681, Val Loss: 6.3780, Val Acc: 0.0322\n",
            "BLEU Score: 0.0104\n",
            "\n",
            "Epoch 18/30\n"
          ]
        },
        {
          "name": "stderr",
          "output_type": "stream",
          "text": []
        },
        {
          "name": "stdout",
          "output_type": "stream",
          "text": [
            "Train Loss: 3.3789, Train Acc: 0.0742, Val Loss: 6.3022, Val Acc: 0.0350\n",
            "BLEU Score: 0.0116\n",
            "\n",
            "Epoch 19/30\n"
          ]
        },
        {
          "name": "stderr",
          "output_type": "stream",
          "text": []
        },
        {
          "name": "stdout",
          "output_type": "stream",
          "text": [
            "Train Loss: 3.1395, Train Acc: 0.0826, Val Loss: 6.2758, Val Acc: 0.0350\n",
            "BLEU Score: 0.0121\n",
            "\n",
            "Epoch 20/30\n"
          ]
        },
        {
          "name": "stderr",
          "output_type": "stream",
          "text": []
        },
        {
          "name": "stdout",
          "output_type": "stream",
          "text": [
            "Train Loss: 2.9348, Train Acc: 0.0880, Val Loss: 6.3031, Val Acc: 0.0350\n",
            "BLEU Score: 0.0124\n",
            "\n",
            "Epoch 21/30\n"
          ]
        },
        {
          "name": "stderr",
          "output_type": "stream",
          "text": []
        },
        {
          "name": "stdout",
          "output_type": "stream",
          "text": [
            "Train Loss: 2.7277, Train Acc: 0.0940, Val Loss: 6.2821, Val Acc: 0.0369\n",
            "BLEU Score: 0.0140\n",
            "\n",
            "Epoch 22/30\n"
          ]
        },
        {
          "name": "stderr",
          "output_type": "stream",
          "text": []
        },
        {
          "name": "stdout",
          "output_type": "stream",
          "text": [
            "Train Loss: 2.5372, Train Acc: 0.0996, Val Loss: 6.2652, Val Acc: 0.0372\n",
            "BLEU Score: 0.0140\n",
            "\n",
            "Epoch 23/30\n"
          ]
        },
        {
          "name": "stderr",
          "output_type": "stream",
          "text": []
        },
        {
          "name": "stdout",
          "output_type": "stream",
          "text": [
            "Train Loss: 2.3630, Train Acc: 0.1042, Val Loss: 6.2611, Val Acc: 0.0376\n",
            "BLEU Score: 0.0148\n",
            "\n",
            "Epoch 24/30\n"
          ]
        },
        {
          "name": "stderr",
          "output_type": "stream",
          "text": []
        },
        {
          "name": "stdout",
          "output_type": "stream",
          "text": [
            "Train Loss: 2.1805, Train Acc: 0.1100, Val Loss: 6.2558, Val Acc: 0.0382\n",
            "BLEU Score: 0.0153\n",
            "\n",
            "Epoch 25/30\n"
          ]
        },
        {
          "name": "stderr",
          "output_type": "stream",
          "text": []
        },
        {
          "name": "stdout",
          "output_type": "stream",
          "text": [
            "Train Loss: 2.0185, Train Acc: 0.1151, Val Loss: 6.2603, Val Acc: 0.0385\n",
            "BLEU Score: 0.0150\n",
            "\n",
            "Epoch 26/30\n"
          ]
        },
        {
          "name": "stderr",
          "output_type": "stream",
          "text": []
        },
        {
          "name": "stdout",
          "output_type": "stream",
          "text": [
            "Train Loss: 1.8736, Train Acc: 0.1200, Val Loss: 6.2848, Val Acc: 0.0393\n",
            "BLEU Score: 0.0153\n",
            "\n",
            "Epoch 27/30\n"
          ]
        },
        {
          "name": "stderr",
          "output_type": "stream",
          "text": []
        },
        {
          "name": "stdout",
          "output_type": "stream",
          "text": [
            "Train Loss: 1.7490, Train Acc: 0.1230, Val Loss: 6.3346, Val Acc: 0.0396\n",
            "BLEU Score: 0.0165\n",
            "\n",
            "Epoch 28/30\n"
          ]
        },
        {
          "name": "stderr",
          "output_type": "stream",
          "text": []
        },
        {
          "name": "stdout",
          "output_type": "stream",
          "text": [
            "Train Loss: 1.6000, Train Acc: 0.1276, Val Loss: 6.3151, Val Acc: 0.0412\n",
            "BLEU Score: 0.0174\n",
            "\n",
            "Epoch 29/30\n"
          ]
        },
        {
          "name": "stderr",
          "output_type": "stream",
          "text": []
        },
        {
          "name": "stdout",
          "output_type": "stream",
          "text": [
            "Train Loss: 1.4679, Train Acc: 0.1318, Val Loss: 6.3281, Val Acc: 0.0400\n",
            "BLEU Score: 0.0172\n",
            "\n",
            "Epoch 30/30\n"
          ]
        },
        {
          "name": "stderr",
          "output_type": "stream",
          "text": []
        },
        {
          "name": "stdout",
          "output_type": "stream",
          "text": [
            "Train Loss: 1.3636, Train Acc: 0.1340, Val Loss: 6.3620, Val Acc: 0.0405\n",
            "BLEU Score: 0.0169\n"
          ]
        }
      ],
      "source": [
        "# ----------------------------\n",
        "# Training & Evaluation Loop\n",
        "# ----------------------------\n",
        "train_losses, val_losses = [], []\n",
        "train_accuracies, val_accuracies = [], []\n",
        "bleu_scores = []\n",
        "\n",
        "num_epochs = 30\n",
        "\n",
        "for epoch in range(num_epochs):\n",
        "    print(f\"\\nEpoch {epoch+1}/{num_epochs}\")\n",
        "\n",
        "    # ----------------------------\n",
        "    # Training Phase\n",
        "    # ----------------------------\n",
        "    model.train()\n",
        "    train_loss, train_total, train_correct = 0, 0, 0\n",
        "\n",
        "    for images, captions in tqdm(train_loader, desc=\"Training\", leave=False):\n",
        "        images, captions = images.to(device), captions.to(device)\n",
        "        tgt_mask = generate_square_subsequent_mask(captions.size(1))\n",
        "\n",
        "        # Forward pass\n",
        "        logits = model(images, captions, tgt_mask=tgt_mask)\n",
        "\n",
        "        # Compute loss: Predict token t+1 from token t\n",
        "        loss = loss_fn(logits[:, :-1, :], captions[:, 1:])\n",
        "\n",
        "        # Backward and optimize\n",
        "        optimizer.zero_grad()\n",
        "        loss.backward()\n",
        "        optimizer.step()\n",
        "\n",
        "        train_loss += loss.item()\n",
        "\n",
        "        # Compute accuracy\n",
        "        preds = logits[:, :-1, :].argmax(dim=-1)\n",
        "        train_correct += (preds == captions[:, 1:]).sum().item()\n",
        "        train_total += captions[:, 1:].numel()\n",
        "\n",
        "    # ----------------------------\n",
        "    # Validation Phase\n",
        "    # ----------------------------\n",
        "    model.eval()\n",
        "    val_loss, val_total, val_correct = 0, 0, 0\n",
        "\n",
        "    with torch.no_grad():\n",
        "        for images, captions in tqdm(val_loader, desc=\"Validating\", leave=False):\n",
        "            images, captions = images.to(device), captions.to(device)\n",
        "            tgt_mask = generate_square_subsequent_mask(captions.size(1))\n",
        "\n",
        "            logits = model(images, captions, tgt_mask=tgt_mask)\n",
        "            loss = loss_fn(logits[:, :-1, :], captions[:, 1:])\n",
        "            val_loss += loss.item()\n",
        "\n",
        "            preds = logits[:, :-1, :].argmax(dim=-1)\n",
        "            val_correct += (preds == captions[:, 1:]).sum().item()\n",
        "            val_total += captions[:, 1:].numel()\n",
        "\n",
        "    # Record epoch metrics\n",
        "    train_losses.append(train_loss / len(train_loader))\n",
        "    val_losses.append(val_loss / len(val_loader))\n",
        "    train_accuracies.append(train_correct / train_total)\n",
        "    val_accuracies.append(val_correct / val_total)\n",
        "\n",
        "    print(f\"Train Loss: {train_loss/len(train_loader):.4f}, \"\n",
        "          f\"Train Acc: {train_correct/train_total:.4f}, \"\n",
        "          f\"Val Loss: {val_loss/len(val_loader):.4f}, \"\n",
        "          f\"Val Acc: {val_correct/val_total:.4f}\")\n",
        "\n",
        "    # ----------------------------\n",
        "    # BLEU Score Evaluation\n",
        "    # ----------------------------\n",
        "    sample_bleus = []\n",
        "    with torch.no_grad():\n",
        "        for images, captions in val_loader:\n",
        "            images, captions = images.to(device), captions.to(device)\n",
        "            tgt_mask = generate_square_subsequent_mask(captions.size(1))\n",
        "            logits = model(images, captions, tgt_mask=tgt_mask)\n",
        "            preds = logits.argmax(dim=-1)\n",
        "\n",
        "            for true, pred in zip(captions, preds):\n",
        "                reference = clean_text(tokenizer.decode(true.tolist()))\n",
        "                hypothesis = clean_text(tokenizer.decode(pred.tolist()))\n",
        "                bleu = sentence_bleu([reference.split()], hypothesis.split(), smoothing_function=smoothie)\n",
        "                sample_bleus.append(bleu)\n",
        "\n",
        "    mean_bleu = sum(sample_bleus) / len(sample_bleus)\n",
        "    bleu_scores.append(mean_bleu)\n",
        "    print(f\"BLEU Score: {mean_bleu:.4f}\")\n",
        "\n",
        "# ----------------------------\n",
        "# Save Trained Model\n",
        "# ----------------------------\n",
        "torch.save(model.state_dict(), \"vlm_caption_model.pth\")\n"
      ]
    },
    {
      "cell_type": "markdown",
      "metadata": {
        "id": "ffe00a7b"
      },
      "source": [
        "### Visualization of Training Metrics\n",
        "This code block performs an intermediate operation in our pipeline. Please refer to inline comments for details."
      ]
    },
    {
      "cell_type": "code",
      "execution_count": null,
      "metadata": {
        "colab": {
          "base_uri": "https://localhost:8080/",
          "height": 407
        },
        "id": "QtaUdCkx7ts0",
        "outputId": "62bce6a7-ea68-47db-b04a-d059eb62b452"
      },
      "outputs": [
        {
          "data": {
            "image/png": "[encoded data removed]",
            "text/plain": [
              "<Figure size 1200x400 with 3 Axes>"
            ]
          },
          "metadata": {},
          "output_type": "display_data"
        }
      ],
      "source": [
        "plt.figure(figsize=(12, 4))\n",
        "\n",
        "# ---- Plot 1: Training & Validation Loss ----\n",
        "plt.subplot(1, 3, 1)\n",
        "plt.plot(train_losses, label='Train Loss')\n",
        "plt.plot(val_losses, label='Validation Loss')\n",
        "plt.xlabel('Epoch')\n",
        "plt.ylabel('Loss')\n",
        "plt.title('Loss over Epochs')\n",
        "plt.legend()\n",
        "plt.grid(True)\n",
        "\n",
        "# ---- Plot 2: Training & Validation Accuracy ----\n",
        "plt.subplot(1, 3, 2)\n",
        "plt.plot(train_accuracies, label='Train Accuracy')\n",
        "plt.plot(val_accuracies, label='Validation Accuracy')\n",
        "plt.xlabel('Epoch')\n",
        "plt.ylabel('Accuracy')\n",
        "plt.title('Accuracy over Epochs')\n",
        "plt.legend()\n",
        "plt.grid(True)\n",
        "\n",
        "# ---- Plot 3: BLEU Score ----\n",
        "plt.subplot(1, 3, 3)\n",
        "plt.plot(bleu_scores, label='BLEU Score')\n",
        "plt.xlabel('Epoch')\n",
        "plt.ylabel('BLEU')\n",
        "plt.title('BLEU Score over Epochs')\n",
        "plt.legend()\n",
        "plt.grid(True)\n",
        "\n",
        "plt.tight_layout()\n",
        "plt.show()"
      ]
    },
    {
      "cell_type": "markdown",
      "metadata": {
        "id": "Ih5nxHX2r7pX"
      },
      "source": [
        "### Training Curve Interpretation\n",
        "\n",
        "The plots above represent the training dynamics of the Vision-Language Model over 30 epochs:\n",
        "\n",
        "#### Loss Trends:\n",
        "- **Training Loss** steadily decreases from ~8 to ~1.3, showing consistent learning.\n",
        "- **Validation Loss** decreases initially and stabilizes after epoch 20, indicating the model is approaching its generalization capacity.\n",
        "- A slight increase after epoch 25 suggests minor **overfitting**, which could be mitigated by early stopping or dropout tuning.\n",
        "\n",
        "#### Accuracy Trends:\n",
        "- **Training Accuracy** grows rapidly, reaching ~13.4%.\n",
        "- **Validation Accuracy** improves slower and plateaus around ~4%, suggesting a **generalization gap**.\n",
        "- This gap can likely be improved with:\n",
        "  - Data augmentation\n",
        "  - A larger validation set\n",
        "  - Regularization methods\n",
        "\n",
        "#### BLEU Score Trends:\n",
        "- BLEU Score steadily improves from near-zero to ~0.017 across 30 epochs.\n",
        "- While absolute values are low (due to strict n-gram matching), the **upward trend** confirms the model is improving in generating semantically and syntactically closer titles over time.\n",
        "\n",
        "### Overall Takeaway:\n",
        "- The model shows **consistent learning and improving text generation quality**.\n",
        "- The BLEU score curve aligns with qualitative gains in prediction quality.\n",
        "- For future work, exploring beam search, attention visualization, and richer text embeddings (e.g., subword units) could enhance performance.\n",
        "\n"
      ]
    },
    {
      "cell_type": "markdown",
      "metadata": {
        "id": "880c7bcc"
      },
      "source": [
        "\n",
        "---\n",
        "\n",
        "## 4. Evaluation Results\n",
        "\n",
        "This section presents the evaluation metrics and model outputs to assess performance.\n",
        "\n",
        "### Evaluation Criteria:\n",
        "- **Cosine Similarity**: Used to compare query vectors with database vectors.\n",
        "- **BLEU Score**: Evaluates the textual similarity of predicted product titles.\n",
        "- **Top-K Accuracy**: Checks whether the ground truth appears in top-K recommendations.\n",
        "\n",
        "### Sample Outputs:\n",
        "We show a few sample query inputs with their top recommended outputs based on multimodal similarity.\n",
        "\n",
        "---\n"
      ]
    },
    {
      "cell_type": "markdown",
      "metadata": {
        "id": "4936531b"
      },
      "source": [
        "### Evaluation on the Test Set\n",
        "This code block performs an intermediate operation in our pipeline. Please refer to inline comments for details."
      ]
    },
    {
      "cell_type": "code",
      "execution_count": null,
      "metadata": {
        "colab": {
          "base_uri": "https://localhost:8080/"
        },
        "id": "EBBqmDWRtMwH",
        "outputId": "035e8470-a4cb-4b47-8997-189fddff127e"
      },
      "outputs": [
        {
          "name": "stdout",
          "output_type": "stream",
          "text": [
            "Test Loss: 6.0424, Test Accuracy: 0.0475\n"
          ]
        }
      ],
      "source": [
        "model.eval()  # Set model to evaluation mode\n",
        "\n",
        "test_loss, test_total, test_correct = 0, 0, 0\n",
        "\n",
        "# Disable gradient computation for evaluation\n",
        "with torch.no_grad():\n",
        "    for images, captions in test_loader:\n",
        "        images, captions = images.to(device), captions.to(device)\n",
        "\n",
        "        # Generate target mask for autoregressive decoding\n",
        "        tgt_mask = generate_square_subsequent_mask(captions.size(1))\n",
        "\n",
        "        # Forward pass through the model\n",
        "        logits = model(images, captions, tgt_mask=tgt_mask)\n",
        "\n",
        "        # Compute loss (excluding <PAD> tokens)\n",
        "        loss = loss_fn(logits[:, :-1, :], captions[:, 1:])\n",
        "        test_loss += loss.item()\n",
        "\n",
        "        # Compute accuracy\n",
        "        preds = logits[:, :-1, :].argmax(dim=-1)\n",
        "        test_correct += (preds == captions[:, 1:]).sum().item()\n",
        "        test_total += captions[:, 1:].numel()\n",
        "\n",
        "# Report test performance\n",
        "print(f\"Test Loss: {test_loss/len(test_loader):.4f}, Test Accuracy: {test_correct/test_total:.4f}\")"
      ]
    },
    {
      "cell_type": "markdown",
      "metadata": {
        "id": "b6df7bbc"
      },
      "source": [
        "### Utility: Extract Product Embeddings\n",
        "\n",
        "This function allows you to extract a compact product embedding from:\n",
        "\n",
        "- Image-only (`mode=\"image\"`)\n",
        "- Text-only (`mode=\"text\"`)\n",
        "- Fused (average of both, `mode=\"both\"`)\n",
        "\n",
        "---\n",
        "\n",
        "#### Function: `get_product_embedding(...)`\n",
        "\n",
        "**Inputs:**\n",
        "- `model` – Trained `VisionLanguageModel`\n",
        "- `image_tensor` – Single image tensor of shape (C, H, W)\n",
        "- `title_tensor` – Tokenized title tensor of shape (T,)\n",
        "- `mode` – Either `\"image\"`, `\"text\"`, or `\"both\"`\n",
        "\n",
        "**Returns:**\n",
        "- A single embedding vector of shape `(D,)`, which can be used for similarity comparison, clustering, or retrieval tasks.\n",
        "\n",
        "Note: Uses mean pooling over patches or token embeddings to form the final representation.\n"
      ]
    },
    {
      "cell_type": "code",
      "execution_count": null,
      "metadata": {
        "id": "0tMGq5cS16R4"
      },
      "outputs": [],
      "source": [
        "# -------------------------------------------------------------\n",
        "# Utility Function: Extract Product Embedding from Text/Image\n",
        "# -------------------------------------------------------------\n",
        "def get_product_embedding(model, image_tensor, title_tensor, mode=\"text\"):\n",
        "    \"\"\"\n",
        "    Extracts a product embedding from either the image, text, or a fusion of both.\n",
        "\n",
        "    Parameters:\n",
        "        model        : Trained VisionLanguageModel\n",
        "        image_tensor : Input image tensor (C x H x W)\n",
        "        title_tensor : Tokenized title tensor (T,)\n",
        "        mode         : \"text\", \"image\", or \"both\" to control the type of embedding\n",
        "\n",
        "    Returns:\n",
        "        Tensor of shape (D,) representing the embedding\n",
        "    \"\"\"\n",
        "    model.eval()  # Set model to evaluation mode\n",
        "\n",
        "    with torch.no_grad():  # Disable gradient computation\n",
        "        # Forward pass through the visual encoder\n",
        "        visual = model.vision_encoder(image_tensor.unsqueeze(0))  # (1, N_patches, D)\n",
        "\n",
        "        # Embed the tokenized title using the decoder’s embedding layer\n",
        "        text = model.decoder.embedding(title_tensor.unsqueeze(0))  # (1, T, D)\n",
        "\n",
        "        # Compute mean-pooled embeddings\n",
        "        visual_avg = visual.mean(dim=1)  # (1, D)\n",
        "        text_avg = text.mean(dim=1)      # (1, D)\n",
        "\n",
        "        # Return the appropriate embedding based on the selected mode\n",
        "        if mode == \"text\":\n",
        "            return text_avg.squeeze(0)  # (D,)\n",
        "        elif mode == \"image\":\n",
        "            return visual_avg.squeeze(0)  # (D,)\n",
        "        else:\n",
        "            return ((visual_avg + text_avg) / 2).squeeze(0)  # (D,)"
      ]
    },
    {
      "cell_type": "code",
      "execution_count": null,
      "metadata": {
        "id": "R0VVpbSYQJoZ"
      },
      "outputs": [],
      "source": [
        "# ----------------------------------------------------------\n",
        "# Preprocess a Single Product Entry (Image + Title Tokens)\n",
        "# ----------------------------------------------------------\n",
        "\n",
        "\n",
        "# Define preprocessing transform for input image\n",
        "transform = transforms.Compose([\n",
        "    transforms.Resize((128, 128)),  # Resize image to match training dimensions\n",
        "    transforms.ToTensor()           # Convert to tensor format\n",
        "])\n",
        "\n",
        "def preprocess_input(asin_entry, tokenizer, max_len=64):\n",
        "    \"\"\"\n",
        "    Prepares image and tokenized title for model inference.\n",
        "\n",
        "    Parameters:\n",
        "        asin_entry : A dictionary or row with keys 'image_name' and 'title'\n",
        "        tokenizer  : Fitted tokenizer object\n",
        "        max_len    : Maximum token length for title\n",
        "\n",
        "    Returns:\n",
        "        image_tensor : Transformed image tensor (C x H x W)\n",
        "        token_ids    : Padded token ID tensor (T,)\n",
        "    \"\"\"\n",
        "    # Construct full image path and load image\n",
        "    img_path = os.path.join(\n",
        "        \"/content/drive/MyDrive/CSC 528 Prime_Pantry_VRS/Sorted/All\",\n",
        "        asin_entry['image_name']\n",
        "    )\n",
        "    image = Image.open(img_path).convert(\"RGB\")\n",
        "    image = transform(image)\n",
        "\n",
        "    # Tokenize the title\n",
        "    title = asin_entry['title']\n",
        "    token_ids = torch.tensor(tokenizer.encode(title, max_len=max_len), dtype=torch.long)\n",
        "\n",
        "    return image, token_ids"
      ]
    },
    {
      "cell_type": "markdown",
      "metadata": {
        "id": "a7b37317"
      },
      "source": [
        "### Inference\n",
        "This code block performs an intermediate operation in our pipeline. Please refer to inline comments for details."
      ]
    },
    {
      "cell_type": "code",
      "execution_count": null,
      "metadata": {
        "colab": {
          "base_uri": "https://localhost:8080/"
        },
        "id": "eDuDSplxQKZ4",
        "outputId": "5e65d9c0-a337-4ef1-dbd7-ab5fa1ef917a"
      },
      "outputs": [
        {
          "name": "stdout",
          "output_type": "stream",
          "text": [
            "Populated product_embeddings for 1250 items, all on device: cuda\n"
          ]
        }
      ],
      "source": [
        "# --------------------------------------------------------------\n",
        "# Generate and Store Product Embeddings for the Entire Dataset\n",
        "# --------------------------------------------------------------\n",
        "product_embeddings = {}\n",
        "\n",
        "# Ensure model is on the correct device\n",
        "device = torch.device(\"cuda\" if torch.cuda.is_available() else \"cpu\")\n",
        "model.to(device)\n",
        "\n",
        "# Iterate through each product entry in the DataFrame\n",
        "for _, row in newDF.iterrows():\n",
        "    # Preprocess image and title to obtain model-ready tensors\n",
        "    img_tensor, title_tensor = preprocess_input(row, tokenizer)\n",
        "\n",
        "    # Move inputs to the computation device (CPU or GPU)\n",
        "    img_tensor = img_tensor.to(device)\n",
        "    title_tensor = title_tensor.to(device)\n",
        "\n",
        "    # Generate embedding (can be text, image, or hybrid)\n",
        "    emb = get_product_embedding(model, img_tensor, title_tensor)\n",
        "\n",
        "    # Store embedding keyed by the product's ASIN\n",
        "    product_embeddings[row['asin']] = emb.to(device)\n",
        "\n",
        "print(f\"Populated product_embeddings for {len(product_embeddings)} items, all on device: {device}\")"
      ]
    },
    {
      "cell_type": "code",
      "execution_count": null,
      "metadata": {
        "id": "S7CAN7XVU6UX"
      },
      "outputs": [],
      "source": [
        "# --------------------------------------------------------------\n",
        "# Product Recommendation Function Based on Textual Similarity\n",
        "# --------------------------------------------------------------\n",
        "\n",
        "def recommend_similar_products(image_tensor, title_tensor, title_text, top_k=5):\n",
        "    \"\"\"\n",
        "    Given a product image and title, recommend top-k similar products\n",
        "    based on cosine similarity of embeddings and token overlap.\n",
        "\n",
        "    Parameters:\n",
        "    - image_tensor: Tensor representation of product image\n",
        "    - title_tensor: Tokenized representation of product title\n",
        "    - title_text: Original title string (used for word overlap computation)\n",
        "    - top_k: Number of top recommendations to return\n",
        "\n",
        "    Returns:\n",
        "    - List of (ASIN, similarity score) tuples for the top-k matches\n",
        "    \"\"\"\n",
        "    # Generate embedding for the query product (using text mode)\n",
        "    query_emb = get_product_embedding(model, image_tensor, title_tensor, mode=\"text\")\n",
        "\n",
        "    # Extract individual words from the title for overlap boosting\n",
        "    query_tokens = set(title_text.lower().split())\n",
        "    similarities = []\n",
        "\n",
        "    # Compare query with every stored product embedding\n",
        "    for asin, emb in product_embeddings.items():\n",
        "        # Compute cosine similarity between query and candidate embeddings\n",
        "        sim = cosine_similarity(query_emb.unsqueeze(0), emb.unsqueeze(0)).item()\n",
        "\n",
        "        # Retrieve the candidate product title from dataset\n",
        "        product_title_row = newDF[newDF['asin'] == asin]['title']\n",
        "        if not product_title_row.empty:\n",
        "            product_tokens = set(product_title_row.iloc[0].lower().split())\n",
        "            # Slightly boost similarity based on token overlap\n",
        "            overlap = len(query_tokens.intersection(product_tokens))\n",
        "            sim += 0.01 * overlap\n",
        "\n",
        "        similarities.append((asin, sim))\n",
        "\n",
        "    # Sort by similarity and return top-k results\n",
        "    similarities.sort(key=lambda x: x[1], reverse=True)\n",
        "    return similarities[:top_k]"
      ]
    },
    {
      "cell_type": "code",
      "execution_count": null,
      "metadata": {
        "id": "1vAoc526PsEW"
      },
      "outputs": [],
      "source": [
        "# --------------------------------------------------------------\n",
        "# Hybrid Recommendation Function\n",
        "# --------------------------------------------------------------\n",
        "# Uses both visual and textual features from a given image and title\n",
        "# to retrieve the top-k most similar products based on cosine similarity\n",
        "# and token overlap.\n",
        "# --------------------------------------------------------------\n",
        "\n",
        "def hybrid_recommendation(image_path, title_text, top_k=5):\n",
        "    \"\"\"\n",
        "    Computes hybrid recommendations for a given product image and title.\n",
        "\n",
        "    Parameters:\n",
        "    - image_path: Path to the input image file\n",
        "    - title_text: Product title (string) corresponding to the image\n",
        "    - top_k: Number of top similar products to return\n",
        "\n",
        "    Returns:\n",
        "    - List of (ASIN, similarity score) tuples for top-k similar products\n",
        "    \"\"\"\n",
        "    # Load and preprocess the input image\n",
        "    image = Image.open(image_path).convert('RGB')\n",
        "    image = transform(image)  # Apply resizing and normalization\n",
        "    image = image.to(device)  # Move image to the appropriate device\n",
        "\n",
        "    # Tokenize the title text and move to device\n",
        "    title_tensor = torch.tensor(\n",
        "        tokenizer.encode(title_text, max_len=64),\n",
        "        dtype=torch.long\n",
        "    ).to(device)\n",
        "\n",
        "    # Generate top-k recommendations using text-based similarity\n",
        "    similar_asins = recommend_similar_products(\n",
        "        image_tensor=image,\n",
        "        title_tensor=title_tensor,\n",
        "        title_text=title_text,\n",
        "        top_k=top_k\n",
        "    )\n",
        "\n",
        "    # Optional: Extract ASIN from image filename for reference\n",
        "    # (Assumes filename structure starts with ASIN)\n",
        "    asin_key = os.path.basename(image_path).split('_')[0].split('.')[0]\n",
        "\n",
        "    return similar_asins"
      ]
    },
    {
      "cell_type": "code",
      "execution_count": null,
      "metadata": {
        "id": "27kgGy63PsHh"
      },
      "outputs": [],
      "source": [
        "# --------------------------------------------------------------\n",
        "# Function to Display Images of Recommended Products\n",
        "# --------------------------------------------------------------\n",
        "# Inputs:\n",
        "# - similar_asins: List of tuples (asin, similarity score)\n",
        "# --------------------------------------------------------------\n",
        "# Displays images in a row with ASINs as titles.\n",
        "# Handles missing images gracefully and logs issues.\n",
        "# --------------------------------------------------------------\n",
        "\n",
        "image_folder_path = '/content/drive/MyDrive/CSC 528 Prime_Pantry_VRS/Sorted/All'\n",
        "\n",
        "def display_recommendations(similar_asins):\n",
        "    def show_images(asins, title):\n",
        "        found = False\n",
        "        plt.figure(figsize=(15, 3))\n",
        "\n",
        "        for i, asin in enumerate(asins):\n",
        "            row = newDF[newDF['asin'] == asin]\n",
        "            if row.empty:\n",
        "                print(f\"ASIN {asin} not found in dataframe.\")\n",
        "                continue\n",
        "\n",
        "            image_name = row['image_name'].iloc[0]\n",
        "            img_path = os.path.join(image_folder_path, image_name)\n",
        "\n",
        "            # Check if image exists before attempting to display\n",
        "            if os.path.exists(img_path):\n",
        "                print(f\"Found: {img_path}\")\n",
        "                found = True\n",
        "                img = Image.open(img_path)\n",
        "\n",
        "                plt.subplot(1, len(asins), i + 1)\n",
        "                plt.imshow(img)\n",
        "                plt.axis('off')\n",
        "                plt.title(asin)\n",
        "            else:\n",
        "                print(f\"Image not found for ASIN: {asin} -> {img_path}\")\n",
        "\n",
        "        if found:\n",
        "            plt.suptitle(title)\n",
        "            plt.show()\n",
        "        else:\n",
        "            print(f\"No displayable images found for {title}.\")\n",
        "\n",
        "    # Extract ASINs from (asin, score) tuples\n",
        "    asin_list = [a[0] for a in similar_asins]\n",
        "    show_images(asin_list, \"System Recommended (Similar Products)\")"
      ]
    },
    {
      "cell_type": "code",
      "execution_count": null,
      "metadata": {
        "colab": {
          "base_uri": "https://localhost:8080/",
          "height": 81
        },
        "id": "qrmjp9l6R4LZ",
        "outputId": "4ee15e88-180e-441c-8ba7-308d4cc0c0fc"
      },
      "outputs": [
        {
          "data": {
            "application/vnd.google.colaboratory.intrinsic+json": {
              "summary": "{\n  \"name\": \"newDF[newDF['asin'] == 'B00IB1D0IO']\",\n  \"rows\": 1,\n  \"fields\": [\n    {\n      \"column\": \"asin\",\n      \"properties\": {\n        \"dtype\": \"string\",\n        \"num_unique_values\": 1,\n        \"samples\": [\n          \"B00IB1D0IO\"\n        ],\n        \"semantic_type\": \"\",\n        \"description\": \"\"\n      }\n    },\n    {\n      \"column\": \"title\",\n      \"properties\": {\n        \"dtype\": \"string\",\n        \"num_unique_values\": 1,\n        \"samples\": [\n          \"Barilla Pasta, Rotini, 16 Ounce\"\n        ],\n        \"semantic_type\": \"\",\n        \"description\": \"\"\n      }\n    },\n    {\n      \"column\": \"image_name\",\n      \"properties\": {\n        \"dtype\": \"string\",\n        \"num_unique_values\": 1,\n        \"samples\": [\n          \"75_B00IB1D0IO_0.jpg\"\n        ],\n        \"semantic_type\": \"\",\n        \"description\": \"\"\n      }\n    }\n  ]\n}",
              "type": "dataframe"
            },
            "text/html": [
              "\n",
              "  <div id=\"df-7bf37d34-8288-456a-ae5f-9645ec0accfa\" class=\"colab-df-container\">\n",
              "    <div>\n",
              "<style scoped>\n",
              "    .dataframe tbody tr th:only-of-type {\n",
              "        vertical-align: middle;\n",
              "    }\n",
              "\n",
              "    .dataframe tbody tr th {\n",
              "        vertical-align: top;\n",
              "    }\n",
              "\n",
              "    .dataframe thead th {\n",
              "        text-align: right;\n",
              "    }\n",
              "</style>\n",
              "<table border=\"1\" class=\"dataframe\">\n",
              "  <thead>\n",
              "    <tr style=\"text-align: right;\">\n",
              "      <th></th>\n",
              "      <th>asin</th>\n",
              "      <th>title</th>\n",
              "      <th>image_name</th>\n",
              "    </tr>\n",
              "  </thead>\n",
              "  <tbody>\n",
              "    <tr>\n",
              "      <th>587</th>\n",
              "      <td>B00IB1D0IO</td>\n",
              "      <td>Barilla Pasta, Rotini, 16 Ounce</td>\n",
              "      <td>75_B00IB1D0IO_0.jpg</td>\n",
              "    </tr>\n",
              "  </tbody>\n",
              "</table>\n",
              "</div>\n",
              "    <div class=\"colab-df-buttons\">\n",
              "\n",
              "  <div class=\"colab-df-container\">\n",
              "    <button class=\"colab-df-convert\" onclick=\"convertToInteractive('df-7bf37d34-8288-456a-ae5f-9645ec0accfa')\"\n",
              "            title=\"Convert this dataframe to an interactive table.\"\n",
              "            style=\"display:none;\">\n",
              "\n",
              "  <svg xmlns=\"http://www.w3.org/2000/svg\" height=\"24px\" viewBox=\"0 -960 960 960\">\n",
              "    <path d=\"M120-120v-720h720v720H120Zm60-500h600v-160H180v160Zm220 220h160v-160H400v160Zm0 220h160v-160H400v160ZM180-400h160v-160H180v160Zm440 0h160v-160H620v160ZM180-180h160v-160H180v160Zm440 0h160v-160H620v160Z\"/>\n",
              "  </svg>\n",
              "    </button>\n",
              "\n",
              "  <style>\n",
              "    .colab-df-container {\n",
              "      display:flex;\n",
              "      gap: 12px;\n",
              "    }\n",
              "\n",
              "    .colab-df-convert {\n",
              "      background-color: #E8F0FE;\n",
              "      border: none;\n",
              "      border-radius: 50%;\n",
              "      cursor: pointer;\n",
              "      display: none;\n",
              "      fill: #1967D2;\n",
              "      height: 32px;\n",
              "      padding: 0 0 0 0;\n",
              "      width: 32px;\n",
              "    }\n",
              "\n",
              "    .colab-df-convert:hover {\n",
              "      background-color: #E2EBFA;\n",
              "      box-shadow: 0px 1px 2px rgba(60, 64, 67, 0.3), 0px 1px 3px 1px rgba(60, 64, 67, 0.15);\n",
              "      fill: #174EA6;\n",
              "    }\n",
              "\n",
              "    .colab-df-buttons div {\n",
              "      margin-bottom: 4px;\n",
              "    }\n",
              "\n",
              "    [theme=dark] .colab-df-convert {\n",
              "      background-color: #3B4455;\n",
              "      fill: #D2E3FC;\n",
              "    }\n",
              "\n",
              "    [theme=dark] .colab-df-convert:hover {\n",
              "      background-color: #434B5C;\n",
              "      box-shadow: 0px 1px 3px 1px rgba(0, 0, 0, 0.15);\n",
              "      filter: drop-shadow(0px 1px 2px rgba(0, 0, 0, 0.3));\n",
              "      fill: #FFFFFF;\n",
              "    }\n",
              "  </style>\n",
              "\n",
              "    <script>\n",
              "      const buttonEl =\n",
              "        document.querySelector('#df-7bf37d34-8288-456a-ae5f-9645ec0accfa button.colab-df-convert');\n",
              "      buttonEl.style.display =\n",
              "        google.colab.kernel.accessAllowed ? 'block' : 'none';\n",
              "\n",
              "      async function convertToInteractive(key) {\n",
              "        const element = document.querySelector('#df-7bf37d34-8288-456a-ae5f-9645ec0accfa');\n",
              "        const dataTable =\n",
              "          await google.colab.kernel.invokeFunction('convertToInteractive',\n",
              "                                                    [key], {});\n",
              "        if (!dataTable) return;\n",
              "\n",
              "        const docLinkHtml = 'Like what you see? Visit the ' +\n",
              "          '<a target=\"_blank\" href=https://colab.research.google.com/notebooks/data_table.ipynb>data table notebook</a>'\n",
              "          + ' to learn more about interactive tables.';\n",
              "        element.innerHTML = '';\n",
              "        dataTable['output_type'] = 'display_data';\n",
              "        await google.colab.output.renderOutput(dataTable, element);\n",
              "        const docLink = document.createElement('div');\n",
              "        docLink.innerHTML = docLinkHtml;\n",
              "        element.appendChild(docLink);\n",
              "      }\n",
              "    </script>\n",
              "  </div>\n",
              "\n",
              "\n",
              "    </div>\n",
              "  </div>\n"
            ],
            "text/plain": [
              "           asin                            title           image_name\n",
              "587  B00IB1D0IO  Barilla Pasta, Rotini, 16 Ounce  75_B00IB1D0IO_0.jpg"
            ]
          },
          "execution_count": 52,
          "metadata": {},
          "output_type": "execute_result"
        }
      ],
      "source": [
        "newDF[newDF['asin'] == 'B00IB1D0IO']"
      ]
    },
    {
      "cell_type": "code",
      "execution_count": null,
      "metadata": {
        "colab": {
          "base_uri": "https://localhost:8080/",
          "height": 509
        },
        "id": "-_oemV2xPsKp",
        "outputId": "caa78b9e-1d29-496f-c39b-ee7a30585066"
      },
      "outputs": [
        {
          "name": "stdout",
          "output_type": "stream",
          "text": [
            "System Recommended (Similar Products): [('B00IB1D0IO', 1.05), ('B00X7ZWZL2', 1.0397225403785706), ('B00X7ZY82Q', 1.0397037649154663), ('B00X7ZXBTM', 1.0396853470802307), ('B00X7ZWKZ8', 1.039677300453186)]\n",
            "Looking for: /content/drive/MyDrive/CSC 528 Prime_Pantry_VRS/Sorted/All/75_B00IB1D0IO_0.jpg\n",
            "✅ Found: /content/drive/MyDrive/CSC 528 Prime_Pantry_VRS/Sorted/All/75_B00IB1D0IO_0.jpg\n",
            "Looking for: /content/drive/MyDrive/CSC 528 Prime_Pantry_VRS/Sorted/All/540_B00X7ZWZL2_3.jpg\n",
            "✅ Found: /content/drive/MyDrive/CSC 528 Prime_Pantry_VRS/Sorted/All/540_B00X7ZWZL2_3.jpg\n",
            "Looking for: /content/drive/MyDrive/CSC 528 Prime_Pantry_VRS/Sorted/All/539_B00X7ZY82Q_2.jpg\n",
            "✅ Found: /content/drive/MyDrive/CSC 528 Prime_Pantry_VRS/Sorted/All/539_B00X7ZY82Q_2.jpg\n",
            "Looking for: /content/drive/MyDrive/CSC 528 Prime_Pantry_VRS/Sorted/All/542_B00X7ZXBTM_2.jpg\n",
            "✅ Found: /content/drive/MyDrive/CSC 528 Prime_Pantry_VRS/Sorted/All/542_B00X7ZXBTM_2.jpg\n",
            "Looking for: /content/drive/MyDrive/CSC 528 Prime_Pantry_VRS/Sorted/All/538_B00X7ZWKZ8_2.jpg\n",
            "✅ Found: /content/drive/MyDrive/CSC 528 Prime_Pantry_VRS/Sorted/All/538_B00X7ZWKZ8_2.jpg\n"
          ]
        },
        {
          "data": {
            "image/png": "[encoded data removed]",
            "text/plain": [
              "<Figure size 1500x300 with 5 Axes>"
            ]
          },
          "metadata": {},
          "output_type": "display_data"
        }
      ],
      "source": [
        "uploaded_image_path = '/content/drive/MyDrive/CSC 528 Prime_Pantry_VRS/Sorted/All/75_B00IB1D0IO_0.jpg'\n",
        "title_text = \"Barilla Pasta, Rotini, 16 Ounce\"\n",
        "\n",
        "similar_asins = hybrid_recommendation(uploaded_image_path, title_text, top_k=5)\n",
        "print(\"System Recommended (Similar Products):\", similar_asins)\n",
        "\n",
        "display_recommendations(similar_asins)"
      ]
    },
    {
      "cell_type": "code",
      "source": [],
      "metadata": {
        "id": "lz8LUrjiIvw2"
      },
      "execution_count": null,
      "outputs": []
    }
  ],
  "metadata": {
    "accelerator": "GPU",
    "colab": {
      "gpuType": "T4",
      "provenance": []
    },
    "kernelspec": {
      "display_name": "Python 3",
      "name": "python3"
    },
    "language_info": {
      "name": "python"
    }
  },
  "nbformat": 4,
  "nbformat_minor": 0
}